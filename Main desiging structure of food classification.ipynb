{
  "nbformat": 4,
  "nbformat_minor": 0,
  "metadata": {
    "colab": {
      "provenance": []
    },
    "kernelspec": {
      "display_name": "Python 3",
      "name": "python3"
    },
    "language_info": {
      "name": "python"
    },
    "accelerator": "GPU"
  },
  "cells": [
    {
      "cell_type": "code",
      "metadata": {
        "colab": {
          "base_uri": "https://localhost:8080/"
        },
        "id": "RxL0j3GaUPFH",
        "outputId": "aa65d6ad-cc90-4ffd-d637-465814b20fdb"
      },
      "source": [
        "# connect drive :)\n",
        "from google.colab import drive\n",
        "drive.mount('/content/drive')"
      ],
      "execution_count": null,
      "outputs": [
        {
          "output_type": "stream",
          "name": "stdout",
          "text": [
            "Mounted at /content/drive\n"
          ]
        }
      ]
    },
    {
      "cell_type": "code",
      "metadata": {
        "id": "WSsxcerfS_aA"
      },
      "source": [
        "# https://www.freecodecamp.org/news/handling-overfitting-in-deep-learning-models/\n"
      ],
      "execution_count": null,
      "outputs": []
    },
    {
      "cell_type": "code",
      "metadata": {
        "id": "KdfFPXSpiX1W"
      },
      "source": [
        "import os\n",
        "import warnings\n",
        "import numpy as np\n",
        "import random\n"
      ],
      "execution_count": null,
      "outputs": []
    },
    {
      "cell_type": "code",
      "metadata": {
        "colab": {
          "base_uri": "https://localhost:8080/"
        },
        "id": "5X_s4aSNieku",
        "outputId": "490fd1ec-e0b2-4b87-dbbe-efd19cb53076"
      },
      "source": [
        "#read folder\n",
        "data_dir_path = os.listdir(\"/content/drive/MyDrive/Data_set\")\n",
        "print(data_dir_path)\n",
        "path, dirs, files = next(os.walk(\"/content/drive/MyDrive/Data_set\"))\n",
        "file_count = len(files)\n",
        "print(file_count)"
      ],
      "execution_count": null,
      "outputs": [
        {
          "name": "stdout",
          "output_type": "stream",
          "text": [
            "['zereshkpolo', 'salad_makarani', 'sabzipolo', 'pasta', 'olvie', 'makarani', 'lazania', 'kotlet-ghoje-khyarshor', 'koko_sabzi', 'khorak-lobia', 'kashkbademjan', 'kababtabeii', 'ghormesabzi', 'gheyme', 'adaspolo-ab-mast', 'abgosht', 'new_data_set']\n",
            "0\n"
          ]
        }
      ]
    },
    {
      "cell_type": "code",
      "metadata": {
        "id": "GkATixaNi2_4",
        "outputId": "558969bc-02b2-4e41-be80-44e53f34a088",
        "colab": {
          "base_uri": "https://localhost:8080/",
          "height": 176
        }
      },
      "source": [
        "#make new Directory\n",
        "original_data_dir = \"/content/drive/MyDrive/Data_set\"\n",
        "base_dir = \"/content/drive/MyDrive/Data_set/new_data_set\"\n",
        "os.mkdir(base_dir)"
      ],
      "execution_count": null,
      "outputs": [
        {
          "output_type": "error",
          "ename": "NameError",
          "evalue": "name 'os' is not defined",
          "traceback": [
            "\u001b[0;31m---------------------------------------------------------------------------\u001b[0m",
            "\u001b[0;31mNameError\u001b[0m                                 Traceback (most recent call last)",
            "\u001b[0;32m<ipython-input-1-1c8e7bbb6dd9>\u001b[0m in \u001b[0;36m<cell line: 4>\u001b[0;34m()\u001b[0m\n\u001b[1;32m      2\u001b[0m \u001b[0moriginal_data_dir\u001b[0m \u001b[0;34m=\u001b[0m \u001b[0;34m\"/content/drive/MyDrive/Data_set\"\u001b[0m\u001b[0;34m\u001b[0m\u001b[0;34m\u001b[0m\u001b[0m\n\u001b[1;32m      3\u001b[0m \u001b[0mbase_dir\u001b[0m \u001b[0;34m=\u001b[0m \u001b[0;34m\"/content/drive/MyDrive/Data_set/new_data_set\"\u001b[0m\u001b[0;34m\u001b[0m\u001b[0;34m\u001b[0m\u001b[0m\n\u001b[0;32m----> 4\u001b[0;31m \u001b[0mos\u001b[0m\u001b[0;34m.\u001b[0m\u001b[0mmkdir\u001b[0m\u001b[0;34m(\u001b[0m\u001b[0mbase_dir\u001b[0m\u001b[0;34m)\u001b[0m\u001b[0;34m\u001b[0m\u001b[0;34m\u001b[0m\u001b[0m\n\u001b[0m",
            "\u001b[0;31mNameError\u001b[0m: name 'os' is not defined"
          ]
        }
      ]
    },
    {
      "cell_type": "code",
      "metadata": {
        "id": "Sc1NT8sajMLD"
      },
      "source": [
        "#create three folders (train and validation and Test)\n",
        "base_dir = \"/content/drive/MyDrive/Data_set/new_data_set\"\n",
        "train_dir = os.path.join(base_dir,'train')\n",
        "os.mkdir(train_dir)\n",
        "\n",
        "validation_dir = os.path.join(base_dir,\"validation\")\n",
        "os.mkdir(validation_dir)\n"
      ],
      "execution_count": null,
      "outputs": []
    },
    {
      "cell_type": "code",
      "metadata": {
        "id": "5I6_ZcjxAYVG"
      },
      "source": [
        "Test_dir = os.path.join(base_dir,\"Test\")\n",
        "os.mkdir(Test_dir)"
      ],
      "execution_count": null,
      "outputs": []
    },
    {
      "cell_type": "code",
      "metadata": {
        "colab": {
          "base_uri": "https://localhost:8080/",
          "height": 122
        },
        "id": "W8oQ7VWtjyon",
        "outputId": "226db7f1-371b-44d5-99c4-c2dfe11831e9"
      },
      "source": [
        "# under the folder create fifteen folder\n",
        "#train\n",
        "\n",
        "train_zereshkpolo = os.path.join(train_dir,\"zereshkpolo\")\n",
        "os.mkdir(train_zereshkpolo)\n",
        "\n",
        "train_salad_makarani = os.path.join(train_dir,\"salad_makarani\")\n",
        "os.mkdir(train_salad_makarani)\n",
        "\n",
        "train_sabzipolo = os.path.join(train_dir,\"sabzipolo\")\n",
        "os.mkdir(train_sabzipolo)\n",
        "\n",
        "train_pasta = os.path.join(train_dir,\"pasta\")\n",
        "os.mkdir(train_pasta)\n",
        "\n",
        "train_olvie = os.path.join(train_dir,\"olvie\")\n",
        "os.mkdir(train_olvie)\n",
        "\n",
        "train_makarani = os.path.join(train_dir,\"makarani\")\n",
        "os.mkdir(train_makarani)\n",
        "\n",
        "train_lazania = os.path.join(train_dir,\"lazania\")\n",
        "os.mkdir(train_lazania)\n",
        "\n",
        "train_kotlet_ghoje_khyarshor = os.path.join(train_dir,\"kotlet_ghoje_khyarshor\")\n",
        "os.mkdir(train_kotlet_ghoje_khyarshor)\n",
        "\n",
        "train_koko_sabzi = os.path.join(train_dir,\"koko_sabzi\")\n",
        "os.mkdir(train_koko_sabzi)\n",
        "\n",
        "train_khorak_lobia = os.path.join(train_dir,\"khorak_lobia\")\n",
        "os.mkdir(train_khorak_lobia)\n",
        "\n",
        "train_kashkbademjan = os.path.join(train_dir,\"kashkbademjan\")\n",
        "os.mkdir(train_kashkbademjan)\n",
        "\n",
        "train_ghormesabzi = os.path.join(train_dir,\"ghormesabzi\")\n",
        "os.mkdir(train_ghormesabzi)\n",
        "\n",
        "train_gheyme = os.path.join(train_dir,\"gheyme\")\n",
        "os.mkdir(train_gheyme)\n",
        "\n",
        "train_adaspolo_ab_mast = os.path.join(train_dir,\"adaspolo_ab_mast\")\n",
        "os.mkdir(train_adaspolo_ab_mast)\n",
        "\n",
        "train_zereshkpolo = os.path.join(train_dir,\"abgosht\")\n",
        "os.mkdir(train_zereshkpolo)\n",
        "\n",
        "train_kababtabeii = os.path.join(train_dir,\"kababtabeii\")\n",
        "os.mkdir(train_kababtabeii)\n",
        "\n",
        "#=============================================================================\n",
        "# validation\n",
        "validation_zereshkpolo = os.path.join(validation_dir,\"zereshkpolo\")\n",
        "os.mkdir(validation_zereshkpolo)\n",
        "\n",
        "validation_salad_makarani = os.path.join(validation_dir,\"salad_makarani\")\n",
        "os.mkdir(validation_salad_makarani)\n",
        "\n",
        "validation_sabzipolo = os.path.join(validation_dir,\"sabzipolo\")\n",
        "os.mkdir(validation_sabzipolo)\n",
        "\n",
        "validation_pasta = os.path.join(validation_dir,\"pasta\")\n",
        "os.mkdir(validation_pasta)\n",
        "\n",
        "validation_olvie = os.path.join(validation_dir,\"olvie\")\n",
        "os.mkdir(validation_olvie)\n",
        "\n",
        "validation_makarani = os.path.join(validation_dir,\"makarani\")\n",
        "os.mkdir(validation_makarani)\n",
        "\n",
        "validation_lazania = os.path.join(validation_dir,\"lazania\")\n",
        "os.mkdir(validation_lazania)\n",
        "\n",
        "validation_kotlet_ghoje_khyarshor = os.path.join(validation_dir,\"kotlet_ghoje_khyarshor\")\n",
        "os.mkdir(validation_kotlet_ghoje_khyarshor)\n",
        "\n",
        "validation_koko_sabzi = os.path.join(validation_dir,\"koko_sabzi\")\n",
        "os.mkdir(validation_koko_sabzi)\n",
        "\n",
        "validation_khorak_lobia = os.path.join(validation_dir,\"khorak_lobia\")\n",
        "os.mkdir(validation_khorak_lobia)\n",
        "\n",
        "validation_kashkbademjan = os.path.join(validation_dir,\"kashkbademjan\")\n",
        "os.mkdir(validation_kashkbademjan)\n",
        "\n",
        "validation_ghormesabzi = os.path.join(validation_dir,\"ghormesabzi\")\n",
        "os.mkdir(validation_ghormesabzi)\n",
        "\n",
        "validation_gheyme = os.path.join(validation_dir,\"gheyme\")\n",
        "os.mkdir(validation_gheyme)\n",
        "\n",
        "validation_adaspolo_ab_mast = os.path.join(validation_dir,\"adaspolo_ab_mast\")\n",
        "os.mkdir(validation_adaspolo_ab_mast)\n",
        "\n",
        "validation_abgosht = os.path.join(validation_dir,\"abgosht\")\n",
        "os.mkdir(validation_abgosht)\n",
        "\n",
        "validation_kababtabeii = os.path.join(validation_dir,\"kababtabeii\")\n",
        "os.mkdir(validation_kababtabeii)\n",
        "\n",
        "#============================================================================\n",
        "# Test\n",
        "\n",
        "Test_zereshkpolo = os.path.join(Test_dir,\"zereshkpolo\")\n",
        "os.mkdir(Test_zereshkpolo)\n",
        "\n",
        "Test_salad_makarani = os.path.join(Test_dir,\"salad_makarani\")\n",
        "os.mkdir(Test_salad_makarani)\n",
        "\n",
        "Test_sabzipolo = os.path.join(Test_dir,\"sabzipolo\")\n",
        "os.mkdir(Test_sabzipolo)\n",
        "\n",
        "Test_pasta = os.path.join(Test_dir,\"pasta\")\n",
        "os.mkdir(Test_pasta)\n",
        "\n",
        "Test_olvie = os.path.join(Test_dir,\"olvie\")\n",
        "os.mkdir(Test_olvie)\n",
        "\n",
        "Test_makarani = os.path.join(Test_dir,\"makarani\")\n",
        "os.mkdir(Test_makarani)\n",
        "\n",
        "Test_lazania = os.path.join(Test_dir,\"lazania\")\n",
        "os.mkdir(Test_lazania)\n",
        "\n",
        "Test_kotlet_ghoje_khyarshor = os.path.join(Test_dir,\"kotlet_ghoje_khyarshor\")\n",
        "os.mkdir(Test_kotlet_ghoje_khyarshor)\n",
        "\n",
        "Test_koko_sabzi = os.path.join(Test_dir,\"koko_sabzi\")\n",
        "os.mkdir(Test_koko_sabzi)\n",
        "\n",
        "Test_khorak_lobia = os.path.join(Test_dir,\"khorak_lobia\")\n",
        "os.mkdir(Test_khorak_lobia)\n",
        "\n",
        "Test_kashkbademjan = os.path.join(Test_dir,\"kashkbademjan\")\n",
        "os.mkdir(Test_kashkbademjan)\n",
        "\n",
        "Test_ghormesabzi = os.path.join(Test_dir,\"ghormesabzi\")\n",
        "os.mkdir(Test_ghormesabzi)\n",
        "\n",
        "Test_gheyme = os.path.join(Test_dir,\"gheyme\")\n",
        "os.mkdir(Test_gheyme)\n",
        "\n",
        "Test_adaspolo_ab_mast = os.path.join(Test_dir,\"adaspolo_ab_mast\")\n",
        "os.mkdir(Test_adaspolo_ab_mast)\n",
        "\n",
        "Test_abgosht = os.path.join(Test_dir,\"abgosht\")\n",
        "os.mkdir(Test_abgosht)\n",
        "\n",
        "Test_kababtabeii = os.path.join(Test_dir,\"kababtabeii\")\n",
        "os.mkdir(Test_kababtabeii)"
      ],
      "execution_count": null,
      "outputs": [
        {
          "data": {
            "application/vnd.google.colaboratory.intrinsic+json": {
              "type": "string"
            },
            "text/plain": [
              "'Test_zereshkpolo = os.path.join(Test_dir,\"zereshkpolo\")\\nos.mkdir(Test_zereshkpolo)\\n\\nTest_salad_makarani = os.path.join(Test_dir,\"salad_makarani\")\\nos.mkdir(Test_salad_makarani)\\n\\nTest_sabzipolo = os.path.join(Test_dir,\"sabzipolo\")\\nos.mkdir(Test_sabzipolo)\\n\\nTest_pasta = os.path.join(Test_dir,\"pasta\")\\nos.mkdir(Test_pasta)\\n\\nTest_olvie = os.path.join(Test_dir,\"olvie\")\\nos.mkdir(Test_olvie)\\n\\nTest_makarani = os.path.join(Test_dir,\"makarani\")\\nos.mkdir(Test_makarani)\\n\\nTest_lazania = os.path.join(Test_dir,\"lazania\")\\nos.mkdir(Test_lazania)\\n\\nTest_kotlet_ghoje_khyarshor = os.path.join(Test_dir,\"kotlet_ghoje_khyarshor\")\\nos.mkdir(Test_kotlet_ghoje_khyarshor)\\n\\nTest_koko_sabzi = os.path.join(Test_dir,\"koko_sabzi\")\\nos.mkdir(Test_koko_sabzi)\\n\\nTest_khorak_lobia = os.path.join(Test_dir,\"khorak_lobia\")\\nos.mkdir(Test_khorak_lobia)\\n\\nTest_kashkbademjan = os.path.join(Test_dir,\"kashkbademjan\")\\nos.mkdir(Test_kashkbademjan)\\n\\nTest_ghormesabzi = os.path.join(Test_dir,\"ghormesabzi\")\\nos.mkdir(Test_ghormesabzi)\\n\\nTest_gheyme = os.path.join(Test_dir,\"gheyme\")\\nos.mkdir(Test_gheyme)\\n\\nTest_adaspolo_ab_mast = os.path.join(Test_dir,\"adaspolo_ab_mast\")\\nos.mkdir(Test_adaspolo_ab_mast)\\n\\nTest_abgosht = os.path.join(Test_dir,\"abgosht\")\\nos.mkdir(Test_abgosht)\\n\\nTest_kababtabeii = os.path.join(Test_dir,\"kababtabeii\")\\nos.mkdir(Test_kababtabeii)'"
            ]
          },
          "execution_count": 6,
          "metadata": {},
          "output_type": "execute_result"
        }
      ]
    },
    {
      "cell_type": "code",
      "metadata": {
        "id": "UoOOMLM5M5Vc"
      },
      "source": [
        "# extract train 90% and validation 10% of remain data\n",
        "def split_data(SOURCE, TRAINING, VALIDATION, SPLIT_SIZE):\n",
        "    files = []\n",
        "    for filename in os.listdir(SOURCE):\n",
        "        file = SOURCE + filename\n",
        "        if os.path.getsize(file) > 0:\n",
        "            files.append(filename)\n",
        "        else:\n",
        "            print(filename + \" is zero length, so ignoring.\")\n",
        "\n",
        "    training_length = int(len(files) * SPLIT_SIZE)\n",
        "    valid_length = int(len(files) - training_length)\n",
        "    shuffled_set = random.sample(files, len(files))\n",
        "    training_set = shuffled_set[0:training_length]\n",
        "    valid_set = shuffled_set[training_length:]\n",
        "\n",
        "    for filename in training_set:\n",
        "        this_file = SOURCE + filename\n",
        "        destination = TRAINING + filename\n",
        "        copyfile(this_file, destination)\n",
        "\n",
        "    for filename in valid_set:\n",
        "        this_file = SOURCE + filename\n",
        "        destination = VALIDATION + filename\n",
        "        copyfile(this_file, destination)"
      ],
      "execution_count": null,
      "outputs": []
    },
    {
      "cell_type": "code",
      "metadata": {
        "id": "E57cYO7vNBnN"
      },
      "source": [
        "#extract test image 10%\n",
        "import os\n",
        "import random\n",
        "import shutil\n",
        "def Test(src,dir):\n",
        "    source = src\n",
        "    dest = dir\n",
        "    files = os.listdir(source)\n",
        "    no_of_files = len(files) //10\n",
        "\n",
        "    for file_name in random.sample(files, no_of_files):\n",
        "        shutil.move(os.path.join(source, file_name), dest)"
      ],
      "execution_count": null,
      "outputs": []
    },
    {
      "cell_type": "code",
      "metadata": {
        "id": "8lF_KbTNHjiw"
      },
      "source": [
        "# Run to extract test image\n",
        "Test(\"/content/drive/MyDrive/Data_set/abgosht/\",\"/content/drive/MyDrive/Data_set/new_data_set/Test/abgosht/\")\n",
        "Test(\"/content/drive/MyDrive/Data_set/adaspolo-ab-mast/\",\"/content/drive/MyDrive/Data_set/new_data_set/Test/adaspolo_ab_mast/\")\n",
        "Test(\"/content/drive/MyDrive/Data_set/gheyme/\",\"/content/drive/MyDrive/Data_set/new_data_set/Test/gheyme/\")\n",
        "Test(\"/content/drive/MyDrive/Data_set/ghormesabzi/\",\"/content/drive/MyDrive/Data_set/new_data_set/Test/ghormesabzi/\")\n",
        "Test(\"/content/drive/MyDrive/Data_set/kababtabeii/\",\"/content/drive/MyDrive/Data_set/new_data_set/Test/kababtabeii/\")\n",
        "Test(\"/content/drive/MyDrive/Data_set/kashkbademjan/\",\"/content/drive/MyDrive/Data_set/new_data_set/Test/kashkbademjan/\")\n",
        "Test(\"/content/drive/MyDrive/Data_set/khorak-lobia/\",\"/content/drive/MyDrive/Data_set/new_data_set/Test/khorak_lobia/\")\n",
        "Test(\"/content/drive/MyDrive/Data_set/koko_sabzi/\",\"/content/drive/MyDrive/Data_set/new_data_set/Test/koko_sabzi/\")\n",
        "Test(\"/content/drive/MyDrive/Data_set/kotlet-ghoje-khyarshor/\",\"/content/drive/MyDrive/Data_set/new_data_set/Test/kotlet_ghoje_khyarshor/\")\n",
        "Test(\"/content/drive/MyDrive/Data_set/lazania/\",\"/content/drive/MyDrive/Data_set/new_data_set/Test/lazania/\")\n",
        "Test(\"/content/drive/MyDrive/Data_set/makarani/\",\"/content/drive/MyDrive/Data_set/new_data_set/Test/makarani/\")\n",
        "Test(\"/content/drive/MyDrive/Data_set/olvie/\",\"/content/drive/MyDrive/Data_set/new_data_set/Test/olvie/\")\n",
        "Test(\"/content/drive/MyDrive/Data_set/pasta/\",\"/content/drive/MyDrive/Data_set/new_data_set/Test/pasta/\")\n",
        "Test(\"/content/drive/MyDrive/Data_set/sabzipolo/\",\"/content/drive/MyDrive/Data_set/new_data_set/Test/sabzipolo/\")\n",
        "Test(\"/content/drive/MyDrive/Data_set/salad_makarani/\",\"/content/drive/MyDrive/Data_set/new_data_set/Test/salad_makarani/\")\n",
        "Test(\"/content/drive/MyDrive/Data_set/zereshkpolo/\",\"/content/drive/MyDrive/Data_set/new_data_set/Test/zereshkpolo/\")"
      ],
      "execution_count": null,
      "outputs": []
    },
    {
      "cell_type": "code",
      "metadata": {
        "id": "P7rkEa7_XlEW"
      },
      "source": [
        "# set directory\n",
        "abgosht = \"/content/drive/MyDrive/Data_set/abgosht/\"\n",
        "training_abgosht = \"/content/drive/MyDrive/Data_set/new_data_set/train/abgosht/\"\n",
        "valid_abgosht = \"/content/drive/MyDrive/Data_set/new_data_set/validation/abgosht/\"\n",
        "\n",
        "adaspolo_ab_mast = \"/content/drive/MyDrive/Data_set/adaspolo-ab-mast/\"\n",
        "training_adaspolo_ab_mast = \"/content/drive/MyDrive/Data_set/new_data_set/train/adaspolo_ab_mast/\"\n",
        "valid_adaspolo_ab_mast = \"/content/drive/MyDrive/Data_set/new_data_set/validation/adaspolo_ab_mast/\"\n",
        "\n",
        "gheyme = \"/content/drive/MyDrive/Data_set/gheyme/\"\n",
        "training_gheyme = \"/content/drive/MyDrive/Data_set/new_data_set/train/gheyme/\"\n",
        "valid_gheyme = \"/content/drive/MyDrive/Data_set/new_data_set/validation/gheyme/\"\n",
        "\n",
        "ghormesabzi = \"/content/drive/MyDrive/Data_set/ghormesabzi/\"\n",
        "training_ghormesabzi = \"/content/drive/MyDrive/Data_set/new_data_set/train/ghormesabzi/\"\n",
        "valid_ghormesabzi = \"/content/drive/MyDrive/Data_set/new_data_set/validation/ghormesabzi/\"\n",
        "\n",
        "kababtabeii = \"/content/drive/MyDrive/Data_set/kababtabeii/\"\n",
        "training_kababtabeii = \"/content/drive/MyDrive/Data_set/new_data_set/train/kababtabeii/\"\n",
        "valid_kababtabeii = \"/content/drive/MyDrive/Data_set/new_data_set/validation/kababtabeii/\"\n",
        "\n",
        "kashkbademjan = \"/content/drive/MyDrive/Data_set/kashkbademjan/\"\n",
        "training_kashkbademjan = \"/content/drive/MyDrive/Data_set/new_data_set/train/kashkbademjan/\"\n",
        "valid_kashkbademjan = \"/content/drive/MyDrive/Data_set/new_data_set/validation/kashkbademjan/\"\n",
        "\n",
        "khorak_lobia = \"/content/drive/MyDrive/Data_set/khorak-lobia/\"\n",
        "training_khorak_lobia = \"/content/drive/MyDrive/Data_set/new_data_set/train/khorak_lobia/\"\n",
        "valid_khorak_lobia = \"/content/drive/MyDrive/Data_set/new_data_set/validation/khorak_lobia/\"\n",
        "\n",
        "koko_sabzi = \"/content/drive/MyDrive/Data_set/koko_sabzi/\"\n",
        "training_koko_sabzi = \"/content/drive/MyDrive/Data_set/new_data_set/train/koko_sabzi/\"\n",
        "valid_koko_sabzi = \"/content/drive/MyDrive/Data_set/new_data_set/validation/koko_sabzi/\"\n",
        "\n",
        "kotlet_ghoje_khyarshor = \"/content/drive/MyDrive/Data_set/kotlet-ghoje-khyarshor/\"\n",
        "training_kotlet_ghoje_khyarshor = \"/content/drive/MyDrive/Data_set/new_data_set/train/kotlet_ghoje_khyarshor/\"\n",
        "valid_kotlet_ghoje_khyarshor = \"/content/drive/MyDrive/Data_set/new_data_set/validation/kotlet_ghoje_khyarshor/\"\n",
        "\n",
        "lazania = \"/content/drive/MyDrive/Data_set/lazania/\"\n",
        "training_lazania = \"/content/drive/MyDrive/Data_set/new_data_set/train/lazania/\"\n",
        "valid_lazania = \"/content/drive/MyDrive/Data_set/new_data_set/validation/lazania/\"\n",
        "\n",
        "makarani = \"/content/drive/MyDrive/Data_set/makarani/\"\n",
        "training_makarani = \"/content/drive/MyDrive/Data_set/new_data_set/train/makarani/\"\n",
        "valid_makarani = \"/content/drive/MyDrive/Data_set/new_data_set/validation/makarani/\"\n",
        "\n",
        "olvie = \"/content/drive/MyDrive/Data_set/olvie/\"\n",
        "training_olvie = \"/content/drive/MyDrive/Data_set/new_data_set/train/olvie/\"\n",
        "valid_olvie = \"/content/drive/MyDrive/Data_set/new_data_set/validation/olvie/\"\n",
        "\n",
        "pasta = \"/content/drive/MyDrive/Data_set/pasta/\"\n",
        "training_pasta = \"/content/drive/MyDrive/Data_set/new_data_set/train/pasta/\"\n",
        "valid_pasta = \"/content/drive/MyDrive/Data_set/new_data_set/validation/pasta/\"\n",
        "\n",
        "sabzipolo = \"/content/drive/MyDrive/Data_set/sabzipolo/\"\n",
        "training_sabzipolo = \"/content/drive/MyDrive/Data_set/new_data_set/train/sabzipolo/\"\n",
        "valid_sabzipolo = \"/content/drive/MyDrive/Data_set/new_data_set/validation/sabzipolo/\"\n",
        "\n",
        "salad_makarani = \"/content/drive/MyDrive/Data_set/salad_makarani/\"\n",
        "training_salad_makarani = \"/content/drive/MyDrive/Data_set/new_data_set/train/salad_makarani/\"\n",
        "valid_salad_makarani = \"/content/drive/MyDrive/Data_set/new_data_set/validation/salad_makarani/\"\n",
        "\n",
        "zereshkpolo = \"/content/drive/MyDrive/Data_set/zereshkpolo/\"\n",
        "training_zereshkpolo = \"/content/drive/MyDrive/Data_set/new_data_set/train/zereshkpolo/\"\n",
        "valid_zereshkpolo = \"/content/drive/MyDrive/Data_set/new_data_set/validation/zereshkpolo/\"\n",
        "\n"
      ],
      "execution_count": null,
      "outputs": []
    },
    {
      "cell_type": "code",
      "metadata": {
        "id": "bTQwozAAbhAw"
      },
      "source": [
        "import os\n",
        "import random\n",
        "from shutil import copyfile\n",
        "\n",
        "split_SIZE = 0.90\n",
        "\n",
        "split_data(abgosht , training_abgosht ,valid_abgosht , split_SIZE )\n",
        "split_data(adaspolo_ab_mast , training_adaspolo_ab_mast ,valid_adaspolo_ab_mast , split_SIZE )\n",
        "split_data(gheyme , training_gheyme ,valid_gheyme , split_SIZE )\n",
        "split_data(ghormesabzi , training_ghormesabzi ,valid_ghormesabzi , split_SIZE )\n",
        "split_data(kababtabeii , training_kababtabeii ,valid_kababtabeii , split_SIZE )\n",
        "split_data(kashkbademjan , training_kashkbademjan ,valid_kashkbademjan , split_SIZE )\n",
        "split_data(khorak_lobia , training_khorak_lobia ,valid_khorak_lobia , split_SIZE )\n",
        "split_data(koko_sabzi , training_koko_sabzi ,valid_koko_sabzi , split_SIZE )\n",
        "split_data(kotlet_ghoje_khyarshor , training_kotlet_ghoje_khyarshor ,valid_kotlet_ghoje_khyarshor , split_SIZE )\n",
        "split_data(lazania , training_lazania ,valid_lazania , split_SIZE )\n",
        "split_data(makarani , training_makarani ,valid_makarani , split_SIZE )\n",
        "split_data(olvie , training_olvie ,valid_olvie , split_SIZE )\n",
        "split_data(pasta , training_pasta ,valid_pasta , split_SIZE )\n",
        "split_data(sabzipolo , training_sabzipolo ,valid_sabzipolo , split_SIZE )\n",
        "split_data(salad_makarani , training_salad_makarani ,valid_salad_makarani , split_SIZE )\n",
        "split_data(zereshkpolo , training_zereshkpolo ,valid_zereshkpolo , split_SIZE )"
      ],
      "execution_count": null,
      "outputs": []
    },
    {
      "cell_type": "code",
      "metadata": {
        "colab": {
          "base_uri": "https://localhost:8080/",
          "height": 669
        },
        "id": "qP-Biu_BdXlC",
        "outputId": "58fd810a-a3b9-4ed8-a145-07dd298dfac4"
      },
      "source": [
        "import matplotlib.pyplot as plt\n",
        "import seaborn as sns\n",
        "from matplotlib.image import imread\n",
        "import pathlib\n",
        "\n",
        "image_folder = ['zereshkpolo', 'salad_makarani', 'sabzipolo', 'pasta', 'olvie', 'makarani', 'lazania', 'kotlet_ghoje_khyarshor', 'koko_sabzi', 'khorak_lobia', 'kashkbademjan', 'kababtabeii', 'ghormesabzi', 'gheyme', 'adaspolo_ab_mast', 'abgosht']\n",
        "nimgs ={}\n",
        "for i in image_folder:\n",
        "    nimages = len(os.listdir(\"/content/drive/MyDrive/Data_set/new_data_set/train/\"+i+\"/\"))\n",
        "    nimgs[i]=nimages\n",
        "\n",
        "plt.figure(figsize=(9,6))\n",
        "plt.bar(range(len(nimgs)),list(nimgs.values()),align='center')\n",
        "plt.xticks(range(len(nimgs)),list(nimgs.keys()))\n",
        "plt.title(\"DISTRIBUTION IN DIFFERENT CLASSES IN TRAINING DATASETS\")\n",
        "plt.show()\n",
        "\n",
        "for i in['zereshkpolo', 'salad_makarani', 'sabzipolo', 'pasta', 'olvie', 'makarani', 'lazania', 'kotlet_ghoje_khyarshor', 'koko_sabzi', 'khorak_lobia', 'kashkbademjan', 'kababtabeii', 'ghormesabzi', 'gheyme', 'adaspolo_ab_mast', 'abgosht']:\n",
        "    print(\"training_{} images are :\".format(i)+str(len(os.listdir(\"/content/drive/MyDrive/Data_set/new_data_set/train/\"+i+\"/\"))))"
      ],
      "execution_count": null,
      "outputs": [
        {
          "output_type": "display_data",
          "data": {
            "image/png": "[encoded data removed]",
            "text/plain": [
              "<Figure size 648x432 with 1 Axes>"
            ]
          },
          "metadata": {
            "needs_background": "light"
          }
        },
        {
          "output_type": "stream",
          "name": "stdout",
          "text": [
            "training_zereshkpolo images are :736\n",
            "training_salad_makarani images are :90\n",
            "training_sabzipolo images are :692\n",
            "training_pasta images are :468\n",
            "training_olvie images are :1117\n",
            "training_makarani images are :151\n",
            "training_lazania images are :1264\n",
            "training_kotlet_ghoje_khyarshor images are :877\n",
            "training_koko_sabzi images are :908\n",
            "training_khorak_lobia images are :528\n",
            "training_kashkbademjan images are :743\n",
            "training_kababtabeii images are :793\n",
            "training_ghormesabzi images are :705\n",
            "training_gheyme images are :628\n",
            "training_adaspolo_ab_mast images are :527\n",
            "training_abgosht images are :548\n"
          ]
        }
      ]
    },
    {
      "cell_type": "code",
      "source": [],
      "metadata": {
        "id": "PwB4kZ7FZ2Ql"
      },
      "execution_count": null,
      "outputs": []
    },
    {
      "cell_type": "code",
      "metadata": {
        "colab": {
          "base_uri": "https://localhost:8080/",
          "height": 1000
        },
        "id": "NsVOVqfMkeQx",
        "outputId": "4d843e52-ce79-467c-84e2-6a8e6fa35df0"
      },
      "source": [
        "import matplotlib.pyplot as plt\n",
        "import seaborn as sns\n",
        "from matplotlib.image import imread\n",
        "import pathlib\n",
        "\n",
        "image_folder = ['zereshkpolo', 'salad_makarani', 'sabzipolo', 'pasta', 'olvie', 'makarani', 'lazania', 'kotlet_ghoje_khyarshor', 'koko_sabzi', 'khorak_lobia', 'kashkbademjan', 'kababtabeii', 'ghormesabzi', 'gheyme', 'adaspolo_ab_mast', 'abgosht']\n",
        "nimgs ={}\n",
        "for i in image_folder:\n",
        "    nimages = len(os.listdir(\"/content/drive/MyDrive/Data_set/new_data_set/validation/\"+i+\"/\"))\n",
        "    nimgs[i]=nimages\n",
        "\n",
        "plt.figure(figsize=(20,20))\n",
        "plt.bar(range(len(nimgs)),list(nimgs.values()),align='center')\n",
        "plt.xticks(range(len(nimgs)),list(nimgs.keys()))\n",
        "plt.title(\"DISTRIBUTION IN DIFFERENT CLASSES IN TRAINING DATASETS\")\n",
        "plt.show()\n",
        "\n",
        "for i in['zereshkpolo', 'salad_makarani', 'sabzipolo', 'pasta', 'olvie', 'makarani', 'lazania', 'kotlet_ghoje_khyarshor', 'koko_sabzi', 'khorak_lobia', 'kashkbademjan', 'kababtabeii', 'ghormesabzi', 'gheyme', 'adaspolo_ab_mast', 'abgosht']:\n",
        "    print(\"validation_{} images are :\".format(i)+str(len(os.listdir(\"/content/drive/MyDrive/Data_set/new_data_set/validation/\"+i+\"/\"))))"
      ],
      "execution_count": null,
      "outputs": [
        {
          "output_type": "display_data",
          "data": {
            "image/png": "[encoded data removed]",
            "text/plain": [
              "<Figure size 1440x1440 with 1 Axes>"
            ]
          },
          "metadata": {
            "needs_background": "light"
          }
        },
        {
          "output_type": "stream",
          "name": "stdout",
          "text": [
            "validation_zereshkpolo images are :45\n",
            "validation_salad_makarani images are :8\n",
            "validation_sabzipolo images are :54\n",
            "validation_pasta images are :42\n",
            "validation_olvie images are :74\n",
            "validation_makarani images are :12\n",
            "validation_lazania images are :102\n",
            "validation_kotlet_ghoje_khyarshor images are :55\n",
            "validation_koko_sabzi images are :52\n",
            "validation_khorak_lobia images are :47\n",
            "validation_kashkbademjan images are :41\n",
            "validation_kababtabeii images are :82\n",
            "validation_ghormesabzi images are :57\n",
            "validation_gheyme images are :62\n",
            "validation_adaspolo_ab_mast images are :50\n",
            "validation_abgosht images are :45\n"
          ]
        }
      ]
    },
    {
      "cell_type": "code",
      "metadata": {
        "colab": {
          "base_uri": "https://localhost:8080/",
          "height": 669
        },
        "id": "9Ex0aluvorMa",
        "outputId": "9365614b-c4ea-404a-b423-c174e11a4f6e"
      },
      "source": [
        "import matplotlib.pyplot as plt\n",
        "import seaborn as sns\n",
        "from matplotlib.image import imread\n",
        "import pathlib\n",
        "\n",
        "image_folder = ['zereshkpolo', 'salad_makarani', 'sabzipolo', 'pasta', 'olvie', 'makarani', 'lazania', 'kotlet_ghoje_khyarshor', 'koko_sabzi', 'khorak_lobia', 'kashkbademjan', 'kababtabeii', 'ghormesabzi', 'gheyme', 'adaspolo_ab_mast', 'abgosht']\n",
        "nimgs ={}\n",
        "for i in image_folder:\n",
        "    nimages = len(os.listdir(\"/content/drive/MyDrive/Data_set/new_data_set/Test/\"+i+\"/\"))\n",
        "    nimgs[i]=nimages\n",
        "\n",
        "plt.figure(figsize=(9,6))\n",
        "plt.bar(range(len(nimgs)),list(nimgs.values()),align='center')\n",
        "plt.xticks(range(len(nimgs)),list(nimgs.keys()))\n",
        "plt.title(\"DISTRIBUTION IN DIFFERENT CLASSES IN TRAINING DATASETS\")\n",
        "plt.show()\n",
        "\n",
        "for i in['zereshkpolo', 'salad_makarani', 'sabzipolo', 'pasta', 'olvie', 'makarani', 'lazania', 'kotlet_ghoje_khyarshor', 'koko_sabzi', 'khorak_lobia', 'kashkbademjan', 'kababtabeii', 'ghormesabzi', 'gheyme', 'adaspolo_ab_mast', 'abgosht']:\n",
        "    print(\"Test_{} images are :\".format(i)+str(len(os.listdir(\"/content/drive/MyDrive/Data_set/new_data_set/Test/\"+i+\"/\"))))"
      ],
      "execution_count": null,
      "outputs": [
        {
          "output_type": "display_data",
          "data": {
            "image/png": "[encoded data removed]",
            "text/plain": [
              "<Figure size 648x432 with 1 Axes>"
            ]
          },
          "metadata": {
            "needs_background": "light"
          }
        },
        {
          "output_type": "stream",
          "name": "stdout",
          "text": [
            "Test_zereshkpolo images are :77\n",
            "Test_salad_makarani images are :9\n",
            "Test_sabzipolo images are :55\n",
            "Test_pasta images are :52\n",
            "Test_olvie images are :89\n",
            "Test_makarani images are :18\n",
            "Test_lazania images are :116\n",
            "Test_kotlet_ghoje_khyarshor images are :64\n",
            "Test_koko_sabzi images are :68\n",
            "Test_khorak_lobia images are :50\n",
            "Test_kashkbademjan images are :55\n",
            "Test_kababtabeii images are :92\n",
            "Test_ghormesabzi images are :80\n",
            "Test_gheyme images are :71\n",
            "Test_adaspolo_ab_mast images are :58\n",
            "Test_abgosht images are :65\n"
          ]
        }
      ]
    },
    {
      "cell_type": "markdown",
      "metadata": {
        "id": "_YOF-5IcMMuf"
      },
      "source": [
        "**start deep learning**"
      ]
    },
    {
      "cell_type": "code",
      "metadata": {
        "id": "eS1EChwklWnN"
      },
      "source": [
        "from tensorflow.keras.optimizers import Adam\n",
        "from tensorflow.keras.preprocessing.image import ImageDataGenerator\n",
        "from tensorflow.keras.layers import Conv2D, MaxPooling2D, Flatten, Dense, Dropout\n",
        "from tensorflow.keras.models import Sequential\n",
        "from tensorflow.keras.callbacks import EarlyStopping, ModelCheckpoint\n",
        "from tensorflow.keras import layers\n",
        "from tensorflow.keras import models"
      ],
      "execution_count": null,
      "outputs": []
    },
    {
      "cell_type": "code",
      "metadata": {
        "id": "FRBIuY10lfC9"
      },
      "source": [
        "img_width=400 ; img_height=400\n",
        "batch_size=16"
      ],
      "execution_count": null,
      "outputs": []
    },
    {
      "cell_type": "code",
      "metadata": {
        "colab": {
          "base_uri": "https://localhost:8080/"
        },
        "id": "ye4D-pFwod5Y",
        "outputId": "f624c0ff-e9fa-40a3-e554-fed8f5a5ff9b"
      },
      "source": [
        "TRAINING_DIR = \"/content/drive/MyDrive/Data_Food_Consumed/new/Train\"\n",
        "\n",
        "train_datagen = ImageDataGenerator(rescale = 1/255.0,\n",
        "                                   rotation_range=30,\n",
        "                                   zoom_range=0.4,\n",
        "                                   shear_range = 0.2,\n",
        "                                   width_shift_range = 0.2,\n",
        "                                   height_shift_range = 0.2,\n",
        "                                   horizontal_flip=True,\n",
        "                                   fill_mode ='nearest')\n",
        "\n",
        "train_generator = train_datagen.flow_from_directory(TRAINING_DIR,\n",
        "                                                    batch_size=batch_size,\n",
        "                                                    class_mode='categorical',\n",
        "                                                    target_size=(img_height, img_width))"
      ],
      "execution_count": null,
      "outputs": [
        {
          "output_type": "stream",
          "name": "stdout",
          "text": [
            "Found 3248 images belonging to 16 classes.\n"
          ]
        }
      ]
    },
    {
      "cell_type": "code",
      "metadata": {
        "colab": {
          "base_uri": "https://localhost:8080/"
        },
        "id": "ThAKnWB6o16d",
        "outputId": "70bdf667-f483-4549-af0d-acef9af0622b"
      },
      "source": [
        "VALIDATION_DIR = \"/content/drive/MyDrive/Data_Food_Consumed/new/Valid\"\n",
        "\n",
        "validation_datagen = ImageDataGenerator(rescale = 1/255.0)\n",
        "\n",
        "validation_generator = validation_datagen.flow_from_directory(VALIDATION_DIR,\n",
        "                                                              batch_size=batch_size,\n",
        "                                                              class_mode='categorical',\n",
        "                                                              target_size=(img_height, img_width))"
      ],
      "execution_count": null,
      "outputs": [
        {
          "output_type": "stream",
          "name": "stdout",
          "text": [
            "Found 422 images belonging to 16 classes.\n"
          ]
        }
      ]
    },
    {
      "cell_type": "code",
      "metadata": {
        "colab": {
          "base_uri": "https://localhost:8080/"
        },
        "id": "b7V_vsfXpBzt",
        "outputId": "ae66161c-99f2-4a53-e9f3-2bc6e50652bf"
      },
      "source": [
        "img_width=640 ; img_height=340\n",
        "batch_size=16\n",
        "TEST_DIR = \"/content/drive/MyDrive/Data_set/new_data_set/Test/\"\n",
        "\n",
        "Test_datagen = ImageDataGenerator(rescale = 1/255.0)\n",
        "\n",
        "Test_generator = Test_datagen.flow_from_directory(TEST_DIR,\n",
        "                                                  batch_size=batch_size,\n",
        "                                                  class_mode='categorical',\n",
        "                                                  target_size=(img_height, img_width))"
      ],
      "execution_count": null,
      "outputs": [
        {
          "output_type": "stream",
          "name": "stdout",
          "text": [
            "Found 1019 images belonging to 16 classes.\n"
          ]
        }
      ]
    },
    {
      "cell_type": "code",
      "metadata": {
        "id": "tWkkAB8vpjWt"
      },
      "source": [
        "# callbacks\n",
        "from tensorflow.keras.callbacks import ReduceLROnPlateau\n",
        "reduce_lr=ReduceLROnPlateau(monitor='val_loss', factor=0.5,patience= 10 , verbose=1)"
      ],
      "execution_count": null,
      "outputs": []
    },
    {
      "cell_type": "code",
      "metadata": {
        "id": "Bcw5MXY1rNIY"
      },
      "source": [
        "from keras.applications import resnet"
      ],
      "execution_count": null,
      "outputs": []
    },
    {
      "cell_type": "code",
      "metadata": {
        "id": "5ucbKQjpq7U9"
      },
      "source": [
        "conv=resnet.ResNet50(weights=\"imagenet\",include_top=False,input_shape=(340 ,640,3))\n",
        "model=models.Sequential()\n",
        "model.add(conv)\n",
        "\n",
        "\n",
        "model.add(layers.Flatten())\n",
        "\n",
        "model.add(layers.Dropout(0.5))\n",
        "\n",
        "model.add(layers.Dense(512, activation='relu'))\n",
        "model.add(layers.Dense(256, activation='relu'))\n",
        "model.add(layers.Dense(128, activation='relu'))\n",
        "model.add(layers.Dense(64, activation='relu'))\n",
        "model.add(layers.Dense(32, activation='relu'))\n",
        "\n",
        "\n",
        "\n",
        "model.add(layers.Dense(16, activation='softmax'))"
      ],
      "execution_count": null,
      "outputs": []
    },
    {
      "cell_type": "code",
      "source": [],
      "metadata": {
        "id": "2seKWKQ49IGt"
      },
      "execution_count": null,
      "outputs": []
    },
    {
      "cell_type": "code",
      "metadata": {
        "colab": {
          "base_uri": "https://localhost:8080/"
        },
        "id": "Q_17DY_4ri0G",
        "outputId": "9a8ed63d-8064-43bd-8be3-55462904a593"
      },
      "source": [
        "model.summary()"
      ],
      "execution_count": null,
      "outputs": [
        {
          "output_type": "stream",
          "name": "stdout",
          "text": [
            "Model: \"sequential_4\"\n",
            "_________________________________________________________________\n",
            " Layer (type)                Output Shape              Param #   \n",
            "=================================================================\n",
            " resnet50 (Functional)       (None, 11, 20, 2048)      23587712  \n",
            "                                                                 \n",
            " flatten_3 (Flatten)         (None, 450560)            0         \n",
            "                                                                 \n",
            " dropout_3 (Dropout)         (None, 450560)            0         \n",
            "                                                                 \n",
            " dense_18 (Dense)            (None, 512)               230687232 \n",
            "                                                                 \n",
            " dense_19 (Dense)            (None, 256)               131328    \n",
            "                                                                 \n",
            " dense_20 (Dense)            (None, 128)               32896     \n",
            "                                                                 \n",
            " dense_21 (Dense)            (None, 64)                8256      \n",
            "                                                                 \n",
            " dense_22 (Dense)            (None, 32)                2080      \n",
            "                                                                 \n",
            " dense_23 (Dense)            (None, 16)                528       \n",
            "                                                                 \n",
            "=================================================================\n",
            "Total params: 254,450,032\n",
            "Trainable params: 254,396,912\n",
            "Non-trainable params: 53,120\n",
            "_________________________________________________________________\n"
          ]
        }
      ]
    },
    {
      "cell_type": "code",
      "metadata": {
        "id": "96-zcEKLsx2h"
      },
      "source": [
        "model.compile(optimizer='Adam',\n",
        "              loss='categorical_crossentropy',\n",
        "              metrics =['accuracy'])"
      ],
      "execution_count": null,
      "outputs": []
    },
    {
      "cell_type": "code",
      "metadata": {
        "colab": {
          "base_uri": "https://localhost:8080/"
        },
        "id": "26LOHxVN-hgS",
        "outputId": "1fa9eb53-b85e-435c-acdc-ec1ca8d53302"
      },
      "source": [
        "history = model.fit(train_generator,\n",
        "                              epochs= 5,\n",
        "                              verbose=1,\n",
        "                              validation_data=validation_generator,\n",
        "                              callbacks = [reduce_lr]\n",
        "                              )"
      ],
      "execution_count": null,
      "outputs": [
        {
          "output_type": "stream",
          "name": "stdout",
          "text": [
            "Epoch 1/5\n",
            "674/674 [==============================] - 3820s 6s/step - loss: 2.1289 - accuracy: 0.3760 - val_loss: 8.9550 - val_accuracy: 0.0507 - lr: 0.0010\n",
            "Epoch 2/5\n",
            "674/674 [==============================] - 1300s 2s/step - loss: 0.9393 - accuracy: 0.6974 - val_loss: 4.8240 - val_accuracy: 0.4903 - lr: 0.0010\n",
            "Epoch 3/5\n",
            "674/674 [==============================] - 1291s 2s/step - loss: 0.5258 - accuracy: 0.8437 - val_loss: 0.8408 - val_accuracy: 0.7645 - lr: 0.0010\n",
            "Epoch 4/5\n",
            "674/674 [==============================] - 1301s 2s/step - loss: 0.3773 - accuracy: 0.8924 - val_loss: 0.5203 - val_accuracy: 0.8345 - lr: 0.0010\n",
            "Epoch 5/5\n",
            "674/674 [==============================] - 1307s 2s/step - loss: 0.2490 - accuracy: 0.9330 - val_loss: 0.3449 - val_accuracy: 0.9203 - lr: 0.0010\n"
          ]
        }
      ]
    },
    {
      "cell_type": "code",
      "metadata": {
        "colab": {
          "base_uri": "https://localhost:8080/"
        },
        "id": "VhtJpFJIFv59",
        "outputId": "dc70d0cb-688e-49af-c1ba-4b777391d252"
      },
      "source": [
        "model.save(\"/content/drive/MyDrive/Data_set/new_data_set/best_currect_cnn.h5\")"
      ],
      "execution_count": null,
      "outputs": [
        {
          "output_type": "stream",
          "name": "stderr",
          "text": [
            "/usr/local/lib/python3.7/dist-packages/keras/engine/functional.py:1410: CustomMaskWarning: Custom mask layers require a config and must override get_config. When loading, the custom mask layer must be passed to the custom_objects argument.\n",
            "  layer_config = serialize_layer_fn(layer)\n"
          ]
        }
      ]
    },
    {
      "cell_type": "code",
      "metadata": {
        "colab": {
          "base_uri": "https://localhost:8080/",
          "height": 458
        },
        "id": "9jyETj4qYj1F",
        "outputId": "9074f5e4-7bdb-4bcc-a01a-2201429cce09"
      },
      "source": [
        "import matplotlib.pyplot as plt\n",
        "import seaborn as sns\n",
        "from matplotlib.image import imread\n",
        "import pathlib\n",
        "\n",
        "acc=history.history['accuracy']\n",
        "val_acc=history.history['val_accuracy']\n",
        "loss=history.history['loss']\n",
        "val_loss=history.history['val_loss']\n",
        "\n",
        "epochs=range(len(acc))\n",
        "\n",
        "fig = plt.figure(figsize=(14,7))\n",
        "plt.plot(epochs, acc, 'r', label=\"Training Accuracy\")\n",
        "plt.plot(epochs, val_acc, 'b', label=\"Validation Accuracy\")\n",
        "plt.xlabel('Epoch')\n",
        "plt.ylabel('Accuracy')\n",
        "plt.title('Training and validation accuracy')\n",
        "plt.legend(loc='lower right')\n",
        "plt.show()"
      ],
      "execution_count": null,
      "outputs": [
        {
          "output_type": "display_data",
          "data": {
            "image/png": "[encoded data removed]",
            "text/plain": [
              "<Figure size 1008x504 with 1 Axes>"
            ]
          },
          "metadata": {
            "needs_background": "light"
          }
        }
      ]
    },
    {
      "cell_type": "code",
      "metadata": {
        "colab": {
          "base_uri": "https://localhost:8080/",
          "height": 475
        },
        "id": "30avj9UqYlWi",
        "outputId": "dac30c65-c8a5-41c6-95bb-16681991ef87"
      },
      "source": [
        "fig2 = plt.figure(figsize=(14,7))\n",
        "plt.plot(epochs, loss, 'r', label=\"Training Loss\")\n",
        "plt.plot(epochs, val_loss, 'b', label=\"Validation Loss\")\n",
        "plt.legend(loc='upper right')\n",
        "plt.xlabel('Epoch')\n",
        "plt.ylabel('Loss')\n",
        "plt.title('Training and validation loss')"
      ],
      "execution_count": null,
      "outputs": [
        {
          "output_type": "execute_result",
          "data": {
            "text/plain": [
              "Text(0.5, 1.0, 'Training and validation loss')"
            ]
          },
          "metadata": {},
          "execution_count": 20
        },
        {
          "output_type": "display_data",
          "data": {
            "image/png": "[encoded data removed]",
            "text/plain": [
              "<Figure size 1008x504 with 1 Axes>"
            ]
          },
          "metadata": {
            "needs_background": "light"
          }
        }
      ]
    },
    {
      "cell_type": "code",
      "metadata": {
        "id": "ApI2RN7ZIF0Y"
      },
      "source": [
        "# load model\n",
        "from keras.models import load_model\n",
        "model = load_model(\"/content/drive/MyDrive/Data_set/new_data_set/best_currect_cnn.h5\")"
      ],
      "execution_count": null,
      "outputs": []
    },
    {
      "cell_type": "code",
      "metadata": {
        "colab": {
          "base_uri": "https://localhost:8080/"
        },
        "id": "TkV1CE2pKEpK",
        "outputId": "d454451e-03be-4df6-abe5-1d2a45941c9e"
      },
      "source": [
        "test_loss , test_acc = model.evaluate_generator(Test_generator , steps=50)\n",
        "print(\"Test loss is :\",test_loss)\n",
        "print(\"Test accuracy is : \", test_acc)"
      ],
      "execution_count": null,
      "outputs": [
        {
          "output_type": "stream",
          "name": "stderr",
          "text": [
            "/usr/local/lib/python3.7/dist-packages/ipykernel_launcher.py:1: UserWarning: `Model.evaluate_generator` is deprecated and will be removed in a future version. Please use `Model.evaluate`, which supports generators.\n",
            "  \"\"\"Entry point for launching an IPython kernel.\n"
          ]
        },
        {
          "output_type": "stream",
          "name": "stdout",
          "text": [
            "Test loss is : 0.2871497869491577\n",
            "Test accuracy is :  0.9287499785423279\n"
          ]
        }
      ]
    },
    {
      "cell_type": "code",
      "metadata": {
        "id": "Ga7YWGUIQH0I"
      },
      "source": [
        "X_test , Y_test = next(Test_generator)\n",
        "X_train , Y_train = next(train_generator)\n",
        "X_val , Y_val = next(validation_generator)"
      ],
      "execution_count": null,
      "outputs": []
    },
    {
      "cell_type": "code",
      "metadata": {
        "id": "cAi1IHctUlvn"
      },
      "source": [
        "X_train , Y_train = next(train_generator)"
      ],
      "execution_count": null,
      "outputs": []
    },
    {
      "cell_type": "code",
      "metadata": {
        "id": "ieXOxh01jIta"
      },
      "source": [
        "#train_confusion_matrix\n",
        "from sklearn.metrics import confusion_matrix\n",
        "import matplotlib.pyplot as plt\n",
        "from sklearn.metrics import ConfusionMatrixDisplay\n",
        "import numpy as np\n",
        "\n",
        "ypred_train = model.predict(X_train)\n",
        "train_labels_p = np.argmax(ypred_train, axis=1)\n",
        "train_true = np.argmax(Y_train, axis=1)\n",
        "cm_train = confusion_matrix(train_true, train_labels_p)"
      ],
      "execution_count": null,
      "outputs": []
    },
    {
      "cell_type": "code",
      "metadata": {
        "colab": {
          "base_uri": "https://localhost:8080/"
        },
        "id": "nl_SSn9SjaFz",
        "outputId": "2e8566bf-0490-4957-f024-b30cb99fad90"
      },
      "source": [
        "print(cm_train)"
      ],
      "execution_count": null,
      "outputs": [
        {
          "output_type": "stream",
          "name": "stdout",
          "text": [
            "[[39  0  0  0  0  0  0  1  0  0  0  0  0  0  0  0]\n",
            " [ 0 24  0  0  0  0  0  0  0  0  0  1  0  0  0  0]\n",
            " [ 0  0 20  0  0  0  0  0  1  0  9 16  0  0  0  0]\n",
            " [ 0  0  0 39  0  0  0  1  1  0  0  0  0  0  0  0]\n",
            " [ 0  0  0  0 41  0  0  0  0  0  0  7  0  0  0  1]\n",
            " [ 0  0  0  0  0 40  0  0  1  0  0  1  0  0  0  1]\n",
            " [ 0  0  0  0  0  0 29  0  0  0  0  0  0  0  0  0]\n",
            " [ 0  0  0  0  0  0  0 41  0  0  0  0  0  0  0  0]\n",
            " [ 0  0  0  0  1  0  0  0 57  0  0  0  0  0  0  0]\n",
            " [ 0  0  0  0  3  0  1  0  0 90  0  1  0  0  0  0]\n",
            " [ 0  0  0  0  0  0  2  0  0  0 10  0  0  0  0  0]\n",
            " [ 0  0  1  0  0  0  0  4  0  0  0 38  0  0  1 19]\n",
            " [ 0  0  0  1  0  0  2  5  0  0  0  0 34  0  0  0]\n",
            " [ 0  0  0  4  1  0  0  1  2  0  0  5  0 31  0  0]\n",
            " [ 0  0  0  0  0  0  0  1  0  0  0  0  0  0  4  0]\n",
            " [ 0  0  0  0  0  1  0  0  0  0  0  1  0  0  0 39]]\n"
          ]
        }
      ]
    },
    {
      "cell_type": "code",
      "metadata": {
        "colab": {
          "base_uri": "https://localhost:8080/"
        },
        "id": "zBWJLv0tkXr8",
        "outputId": "d96d647e-7ec7-4e51-d40b-dc024186db45"
      },
      "source": [
        "#performance train data\n",
        "#performance test data\n",
        "from sklearn.metrics import accuracy_score\n",
        "from sklearn.metrics import f1_score\n",
        "from sklearn.metrics import precision_score\n",
        "from sklearn.metrics import recall_score\n",
        "from sklearn.metrics import mean_squared_error\n",
        "from sklearn.metrics import mean_absolute_error\n",
        "Accuracy_train= accuracy_score(train_true, train_labels_p)\n",
        "MSE_train= mean_squared_error(train_true, train_labels_p,squared=True)\n",
        "RMSE_train= mean_squared_error(train_true, train_labels_p,squared=False)\n",
        "MAE_train= mean_absolute_error(train_true, train_labels_p)\n",
        "Precision_train= precision_score(train_true, train_labels_p,average=None)\n",
        "Sensitivity_train = recall_score(train_true, train_labels_p,average=None)\n",
        "F1_train= f1_score(train_true, train_labels_p,average=None)\n",
        "#train performance\n",
        "print(cm_train)\n",
        "print('Accuracy_train' + str(Accuracy_train))\n",
        "print('MSE_train' + str(MSE_train))\n",
        "print('RMSE_train' + str(RMSE_train))\n",
        "print('MAE_train' + str(MAE_train))\n",
        "print('Precision_train' + str(Precision_train))\n",
        "print('Sensitivity_train' + str(Sensitivity_train))\n",
        "print('F1_score_train' + str(F1_train))"
      ],
      "execution_count": null,
      "outputs": [
        {
          "output_type": "stream",
          "name": "stdout",
          "text": [
            "[[39  0  0  0  0  0  0  1  0  0  0  0  0  0  0  0]\n",
            " [ 0 24  0  0  0  0  0  0  0  0  0  1  0  0  0  0]\n",
            " [ 0  0 20  0  0  0  0  0  1  0  9 16  0  0  0  0]\n",
            " [ 0  0  0 39  0  0  0  1  1  0  0  0  0  0  0  0]\n",
            " [ 0  0  0  0 41  0  0  0  0  0  0  7  0  0  0  1]\n",
            " [ 0  0  0  0  0 40  0  0  1  0  0  1  0  0  0  1]\n",
            " [ 0  0  0  0  0  0 29  0  0  0  0  0  0  0  0  0]\n",
            " [ 0  0  0  0  0  0  0 41  0  0  0  0  0  0  0  0]\n",
            " [ 0  0  0  0  1  0  0  0 57  0  0  0  0  0  0  0]\n",
            " [ 0  0  0  0  3  0  1  0  0 90  0  1  0  0  0  0]\n",
            " [ 0  0  0  0  0  0  2  0  0  0 10  0  0  0  0  0]\n",
            " [ 0  0  1  0  0  0  0  4  0  0  0 38  0  0  1 19]\n",
            " [ 0  0  0  1  0  0  2  5  0  0  0  0 34  0  0  0]\n",
            " [ 0  0  0  4  1  0  0  1  2  0  0  5  0 31  0  0]\n",
            " [ 0  0  0  0  0  0  0  1  0  0  0  0  0  0  4  0]\n",
            " [ 0  0  0  0  0  1  0  0  0  0  0  1  0  0  0 39]]\n",
            "Accuracy_train0.8545994065281899\n",
            "MSE_train6.425816023738872\n",
            "RMSE_train2.5349193327873123\n",
            "MAE_train0.8976261127596439\n",
            "Precision_train[1.         1.         0.95238095 0.88636364 0.89130435 0.97560976\n",
            " 0.85294118 0.75925926 0.91935484 1.         0.52631579 0.54285714\n",
            " 1.         1.         0.8        0.65      ]\n",
            "Sensitivity_train[0.975      0.96       0.43478261 0.95121951 0.83673469 0.93023256\n",
            " 1.         1.         0.98275862 0.94736842 0.83333333 0.6031746\n",
            " 0.80952381 0.70454545 0.8        0.95121951]\n",
            "F1_score_train[0.98734177 0.97959184 0.59701493 0.91764706 0.86315789 0.95238095\n",
            " 0.92063492 0.86315789 0.95       0.97297297 0.64516129 0.57142857\n",
            " 0.89473684 0.82666667 0.8        0.77227723]\n"
          ]
        }
      ]
    },
    {
      "cell_type": "code",
      "metadata": {
        "colab": {
          "base_uri": "https://localhost:8080/"
        },
        "id": "BBetjS0RUpIY",
        "outputId": "a8f29299-3639-4c00-eb0a-241296bfda42"
      },
      "source": [
        "print(X_train.shape)"
      ],
      "execution_count": null,
      "outputs": [
        {
          "output_type": "stream",
          "name": "stdout",
          "text": [
            "(16, 340, 640, 3)\n"
          ]
        }
      ]
    },
    {
      "cell_type": "code",
      "metadata": {
        "id": "DSgkx-lEgtgM"
      },
      "source": [
        "from sklearn.metrics import confusion_matrix\n",
        "import matplotlib.pyplot as plt\n",
        "from sklearn.metrics import ConfusionMatrixDisplay\n",
        "import numpy as np\n",
        "\n",
        "#test confusion_matrix\n",
        "ypred_test = model.predict(X_test)\n",
        "test_labels_p = np.argmax(ypred_test, axis=1)\n",
        "test_true = np.argmax(Y_test, axis=1)\n",
        "cm_test = confusion_matrix(test_true, test_labels_p)\n",
        "\n",
        "#validation confusion_matrix\n",
        "ypred_valid = model.predict(X_val)\n",
        "valid_labels_p = np.argmax(ypred_valid, axis=1)\n",
        "valid_true = np.argmax(Y_val, axis=1)\n",
        "cm_valid = confusion_matrix(valid_true, valid_labels_p)\n",
        "\n",
        "#train_confusion_matrix\n",
        "ypred_train = model.predict(X_train)\n",
        "train_labels_p = np.argmax(ypred_train, axis=1)\n",
        "train_true = np.argmax(Y_train, axis=1)\n",
        "cm_train = confusion_matrix(train_true, train_labels_p)"
      ],
      "execution_count": null,
      "outputs": []
    },
    {
      "cell_type": "code",
      "metadata": {
        "colab": {
          "base_uri": "https://localhost:8080/"
        },
        "id": "unGB8QbUh9qg",
        "outputId": "f51b02e2-10c9-45b8-fe92-078ad1b206e5"
      },
      "source": [
        "#performance test data\n",
        "from sklearn.metrics import accuracy_score\n",
        "from sklearn.metrics import f1_score\n",
        "from sklearn.metrics import precision_score\n",
        "from sklearn.metrics import recall_score\n",
        "from sklearn.metrics import mean_squared_error\n",
        "from sklearn.metrics import mean_absolute_error\n",
        "\n",
        "Accuracy_test= accuracy_score(test_true, test_labels_p)\n",
        "MSE_test= mean_squared_error(test_true, test_labels_p,squared=True)\n",
        "RMSE_test= mean_squared_error(test_true, test_labels_p,squared=False)\n",
        "MAE_test= mean_absolute_error(test_true, test_labels_p)\n",
        "Precision_test= precision_score(test_true, test_labels_p,average=None)\n",
        "Sensitivity_test = recall_score(test_true, test_labels_p,average=None)\n",
        "F1_test= f1_score(test_true, test_labels_p,average=None)\n",
        "\n",
        "#performance valid data\n",
        "Accuracy_valid= accuracy_score(valid_true, valid_labels_p)\n",
        "MSE_valid= mean_squared_error(valid_true, valid_labels_p,squared=True)\n",
        "RMSE_valid= mean_squared_error(valid_true, valid_labels_p,squared=False)\n",
        "MAE_valid= mean_absolute_error(valid_true, valid_labels_p)\n",
        "Precision_valid= precision_score(valid_true, valid_labels_p,average=None)\n",
        "Sensitivity_valid = recall_score(valid_true, valid_labels_p,average=None)\n",
        "F1_valid= f1_score(valid_true, valid_labels_p,average=None)\n",
        "\n",
        "#performance train data\n",
        "Accuracy_train= accuracy_score(train_true, train_labels_p)\n",
        "MSE_train= mean_squared_error(train_true, train_labels_p,squared=True)\n",
        "RMSE_train= mean_squared_error(train_true, train_labels_p,squared=False)\n",
        "MAE_train= mean_absolute_error(train_true, train_labels_p)\n",
        "Precision_train= precision_score(train_true, train_labels_p,average=None)\n",
        "Sensitivity_train = recall_score(train_true, train_labels_p,average=None)\n",
        "F1_train= f1_score(train_true, train_labels_p,average=None)\n"
      ],
      "execution_count": null,
      "outputs": [
        {
          "output_type": "stream",
          "name": "stderr",
          "text": [
            "/usr/local/lib/python3.7/dist-packages/sklearn/metrics/_classification.py:1308: UndefinedMetricWarning: Precision is ill-defined and being set to 0.0 in labels with no predicted samples. Use `zero_division` parameter to control this behavior.\n",
            "  _warn_prf(average, modifier, msg_start, len(result))\n",
            "/usr/local/lib/python3.7/dist-packages/sklearn/metrics/_classification.py:1308: UndefinedMetricWarning: Recall is ill-defined and being set to 0.0 in labels with no true samples. Use `zero_division` parameter to control this behavior.\n",
            "  _warn_prf(average, modifier, msg_start, len(result))\n"
          ]
        }
      ]
    },
    {
      "cell_type": "code",
      "metadata": {
        "colab": {
          "base_uri": "https://localhost:8080/"
        },
        "id": "6jR6EKO8iMcm",
        "outputId": "de0e0abe-e28a-46c8-d997-879f46b0030f"
      },
      "source": [
        "#show performance\n",
        "#test performance\n",
        "print(cm_test)\n",
        "print('Accuracy_test' + str(Accuracy_test))\n",
        "print('MSE_test' + str(MSE_test))\n",
        "print('RMSE_test' + str(RMSE_test))\n",
        "print('MAE_test' + str(MAE_test))\n",
        "print('Precision_test' + str(Precision_test))\n",
        "print('Sensitivity_test' + str(Sensitivity_test))\n",
        "print('F1_score_test' + str(F1_test))"
      ],
      "execution_count": null,
      "outputs": [
        {
          "output_type": "stream",
          "name": "stdout",
          "text": [
            "[[1 0 0 0 0 0 0 0 0 0 0]\n",
            " [0 1 0 0 0 0 0 0 0 0 0]\n",
            " [0 0 2 0 0 0 0 0 0 0 0]\n",
            " [0 0 0 1 0 0 0 0 0 0 0]\n",
            " [0 0 0 0 1 0 0 0 0 0 0]\n",
            " [0 0 0 0 0 1 0 0 0 0 0]\n",
            " [0 0 0 0 0 0 2 0 0 0 0]\n",
            " [0 0 0 0 0 0 0 1 0 0 0]\n",
            " [0 0 0 0 0 0 0 0 1 0 0]\n",
            " [0 0 0 0 0 0 0 0 0 1 0]\n",
            " [0 0 0 0 0 0 0 0 0 0 4]]\n",
            "Accuracy_test1.0\n",
            "MSE_test0.0\n",
            "RMSE_test0.0\n",
            "MAE_test0.0\n",
            "Precision_test[1. 1. 1. 1. 1. 1. 1. 1. 1. 1. 1.]\n",
            "Sensitivity_test[1. 1. 1. 1. 1. 1. 1. 1. 1. 1. 1.]\n",
            "F1_score_test[1. 1. 1. 1. 1. 1. 1. 1. 1. 1. 1.]\n"
          ]
        }
      ]
    },
    {
      "cell_type": "code",
      "metadata": {
        "colab": {
          "base_uri": "https://localhost:8080/"
        },
        "id": "taxGtt5JigQb",
        "outputId": "8dcf9721-a711-40fe-9c5c-7cf5c34c2d0b"
      },
      "source": [
        "#valid performance\n",
        "print(cm_valid)\n",
        "print('Accuracy_valid' + str(Accuracy_valid))\n",
        "print('MSE_valid' + str(MSE_valid))\n",
        "print('RMSE_valid' + str(RMSE_valid))\n",
        "print('MAE_valid' + str(MAE_valid))\n",
        "print('Precision_valid' + str(Precision_valid))\n",
        "print('Sensitivity_valid' + str(Sensitivity_valid))\n",
        "print('F1_score_valid' + str(F1_valid))"
      ],
      "execution_count": null,
      "outputs": [
        {
          "output_type": "stream",
          "name": "stdout",
          "text": [
            "[[4 0 0 0 0 0 0 0 0]\n",
            " [0 1 0 0 0 0 0 0 0]\n",
            " [0 0 1 0 0 0 0 0 0]\n",
            " [0 0 0 3 0 0 0 0 0]\n",
            " [0 0 0 0 1 0 0 0 0]\n",
            " [0 0 0 0 0 2 0 0 0]\n",
            " [0 0 0 0 0 0 1 0 0]\n",
            " [0 0 0 0 0 0 0 1 0]\n",
            " [0 0 0 0 0 0 0 0 2]]\n",
            "Accuracy_valid1.0\n",
            "MSE_valid0.0\n",
            "RMSE_valid0.0\n",
            "MAE_valid0.0\n",
            "Precision_valid[1. 1. 1. 1. 1. 1. 1. 1. 1.]\n",
            "Sensitivity_valid[1. 1. 1. 1. 1. 1. 1. 1. 1.]\n",
            "F1_score_valid[1. 1. 1. 1. 1. 1. 1. 1. 1.]\n"
          ]
        }
      ]
    },
    {
      "cell_type": "code",
      "metadata": {
        "colab": {
          "base_uri": "https://localhost:8080/"
        },
        "id": "09h8ehUkiocR",
        "outputId": "d39aba92-c7f5-4118-dca3-01e9b1d55a54"
      },
      "source": [
        "#train performance\n",
        "print(cm_train)\n",
        "print('Accuracy_train' + str(Accuracy_train))\n",
        "print('MSE_train' + str(MSE_train))\n",
        "print('RMSE_train' + str(RMSE_train))\n",
        "print('MAE_train' + str(MAE_train))\n",
        "print('Precision_train' + str(Precision_train))\n",
        "print('Sensitivity_train' + str(Sensitivity_train))\n",
        "print('F1_score_train' + str(F1_train))"
      ],
      "execution_count": null,
      "outputs": [
        {
          "output_type": "stream",
          "name": "stdout",
          "text": [
            "[[3 0 0 0 0 0 0 0 0 0]\n",
            " [0 0 0 0 0 0 1 0 0 0]\n",
            " [0 0 2 0 0 0 0 0 0 0]\n",
            " [0 0 0 1 0 0 0 0 0 0]\n",
            " [0 0 0 0 2 0 0 0 0 0]\n",
            " [0 0 0 0 0 2 0 0 0 0]\n",
            " [0 0 0 0 0 0 0 0 0 0]\n",
            " [0 0 0 0 0 0 0 1 0 0]\n",
            " [0 0 0 0 0 0 0 0 2 0]\n",
            " [0 0 0 0 0 0 0 0 0 2]]\n",
            "Accuracy_train0.9375\n",
            "MSE_train5.0625\n",
            "RMSE_train2.25\n",
            "MAE_train0.5625\n",
            "Precision_train[1. 0. 1. 1. 1. 1. 0. 1. 1. 1.]\n",
            "Sensitivity_train[1. 0. 1. 1. 1. 1. 0. 1. 1. 1.]\n",
            "F1_score_train[1. 0. 1. 1. 1. 1. 0. 1. 1. 1.]\n"
          ]
        }
      ]
    },
    {
      "cell_type": "code",
      "metadata": {
        "colab": {
          "base_uri": "https://localhost:8080/",
          "height": 1000
        },
        "id": "AkVAN8YpjDZp",
        "outputId": "f86e9563-b597-4250-aef8-36786b80cbac"
      },
      "source": [
        "import matplotlib.pyplot as plt\n",
        "#Plot the confusion matrix. Set Normalize = True/False\n",
        "def plot_confusion_matrix(cm, classes, normalize=True, title='Confusion matrix', cmap=plt.cm.Blues):\n",
        "    \"\"\"\n",
        "    This function prints and plots the confusion matrix.\n",
        "    Normalization can be applied by setting `normalize=True`.\n",
        "    \"\"\"\n",
        "    plt.figure(figsize=(10,10))\n",
        "    plt.imshow(cm, interpolation='nearest', cmap=cmap)\n",
        "    plt.title(title)\n",
        "    plt.colorbar()\n",
        "    tick_marks = np.arange(len(classes))\n",
        "    plt.xticks(tick_marks, classes, rotation=45)\n",
        "    plt.yticks(tick_marks, classes)\n",
        "    if normalize:\n",
        "      cm = cm.astype('float') / cm.sum(axis=1)[:, np.newaxis]\n",
        "      cm = np.around(cm, decimals=2)\n",
        "      cm[np.isnan(cm)] = 0.0\n",
        "      print(\"Normalized confusion matrix\")\n",
        "    else:\n",
        "      print('Confusion matrix, without normalization')\n",
        "      thresh = cm.max() / 2.\n",
        "      for i, j in itertools.product(range(cm.shape[0]), range(cm.shape[1])):\n",
        "        plt.text(j, i, cm[i, j],\n",
        "        horizontalalignment=\"center\",\n",
        "        color=\"white\" if cm[i, j] > thresh else \"black\")\n",
        "        plt.tight_layout()\n",
        "        plt.ylabel('True label')\n",
        "        plt.xlabel('Predicted label')\n",
        "#Print the Target names\n",
        "from sklearn.metrics import classification_report, confusion_matrix\n",
        "import itertools\n",
        "#shuffle=False\n",
        "target_names = []\n",
        "for key in train_generator.class_indices:\n",
        "    target_names.append(key)\n",
        "# print(target_names)\n",
        "#Confution Matrix\n",
        "Y_pred = model.predict_generator(train_generator)\n",
        "y_pred = np.argmax(Y_pred, axis=1)\n",
        "print('Confusion Matrix')\n",
        "cm = confusion_matrix(train_generator.classes, y_pred)\n",
        "plot_confusion_matrix(cm, target_names, title='Confusion Matrix')\n",
        "#Print Classification Report\n",
        "print('Classification Report')\n",
        "print(classification_report(train_generator.classes, y_pred, target_names=target_names))\n"
      ],
      "execution_count": null,
      "outputs": [
        {
          "output_type": "stream",
          "name": "stderr",
          "text": [
            "/usr/local/lib/python3.7/dist-packages/ipykernel_launcher.py:39: UserWarning: `Model.predict_generator` is deprecated and will be removed in a future version. Please use `Model.predict`, which supports generators.\n"
          ]
        },
        {
          "output_type": "stream",
          "name": "stdout",
          "text": [
            "Confusion Matrix\n",
            "Normalized confusion matrix\n",
            "Classification Report\n",
            "                        precision    recall  f1-score   support\n",
            "\n",
            "               abgosht       0.03      0.03      0.03       548\n",
            "      adaspolo_ab_mast       0.06      0.05      0.05       527\n",
            "                gheyme       0.05      0.03      0.03       628\n",
            "           ghormesabzi       0.07      0.08      0.07       705\n",
            "           kababtabeii       0.07      0.06      0.07       793\n",
            "         kashkbademjan       0.07      0.06      0.06       743\n",
            "          khorak_lobia       0.06      0.07      0.07       528\n",
            "            koko_sabzi       0.08      0.10      0.09       908\n",
            "kotlet_ghoje_khyarshor       0.08      0.08      0.08       877\n",
            "               lazania       0.11      0.10      0.11      1264\n",
            "              makarani       0.02      0.03      0.02       151\n",
            "                 olvie       0.09      0.10      0.10      1117\n",
            "                 pasta       0.06      0.04      0.05       468\n",
            "             sabzipolo       0.07      0.04      0.05       692\n",
            "        salad_makarani       0.01      0.01      0.01        90\n",
            "           zereshkpolo       0.07      0.11      0.09       736\n",
            "\n",
            "              accuracy                           0.07     10775\n",
            "             macro avg       0.06      0.06      0.06     10775\n",
            "          weighted avg       0.07      0.07      0.07     10775\n",
            "\n"
          ]
        },
        {
          "output_type": "display_data",
          "data": {
            "image/png": "[encoded data removed]",
            "text/plain": [
              "<Figure size 1440x1440 with 2 Axes>"
            ]
          },
          "metadata": {
            "needs_background": "light"
          }
        }
      ]
    },
    {
      "cell_type": "code",
      "source": [
        "img_width=640 ; img_height=340\n",
        "batch_size=16\n",
        "TEST_DIR = \"/content/drive/MyDrive/Data_set/new_data_set/Test/\"\n",
        "\n",
        "Test_datagen = ImageDataGenerator(rescale = 1/255.0)\n",
        "\n",
        "Test_generator = Test_datagen.flow_from_directory(TEST_DIR,\n",
        "                                                  batch_size=batch_size,\n",
        "                                                  class_mode='categorical',\n",
        "                                                  target_size=(img_height, img_width))"
      ],
      "metadata": {
        "id": "jwJzUnEJaC2I",
        "outputId": "4c34d3b4-04df-4f8e-adeb-24f286d7df3d",
        "colab": {
          "base_uri": "https://localhost:8080/"
        }
      },
      "execution_count": null,
      "outputs": [
        {
          "output_type": "stream",
          "name": "stdout",
          "text": [
            "Found 1019 images belonging to 16 classes.\n"
          ]
        }
      ]
    },
    {
      "cell_type": "code",
      "metadata": {
        "id": "EzMy9ubZN2w0"
      },
      "source": [
        "import matplotlib.pyplot as plt\n",
        "#Plot the confusion matrix. Set Normalize = True/False\n",
        "def plot_confusion_matrix(cm, classes, normalize=True, title='Confusion matrix', cmap=plt.cm.Blues):\n",
        "    \"\"\"\n",
        "    This function prints and plots the confusion matrix.\n",
        "    Normalization can be applied by setting `normalize=True`.\n",
        "    \"\"\"\n",
        "    plt.figure(figsize=(40,15))\n",
        "    plt.imshow(cm, interpolation='nearest', cmap=cmap)\n",
        "    plt.title(title)\n",
        "    plt.colorbar()\n",
        "    tick_marks = np.arange(len(classes))\n",
        "    plt.xticks(tick_marks, classes, rotation=45)\n",
        "    plt.yticks(tick_marks, classes)\n",
        "    if normalize:\n",
        "      cm = cm.astype('float') / cm.sum(axis=1)[:, np.newaxis]\n",
        "      cm = np.around(cm, decimals=2)\n",
        "      cm[np.isnan(cm)] = 0.0\n",
        "      print(\"Normalized confusion matrix\")\n",
        "    else:\n",
        "      print('Confusion matrix, without normalization')\n",
        "      thresh = cm.max() / 2.\n",
        "      for i, j in itertools.product(range(cm.shape[0]), range(cm.shape[1])):\n",
        "        plt.text(j, i, cm[i, j],\n",
        "        horizontalalignment=\"center\",\n",
        "        color=\"white\" if cm[i, j] > thresh else \"black\")\n",
        "        plt.tight_layout()\n",
        "        plt.ylabel('True label')\n",
        "        plt.xlabel('Predicted label')\n",
        "#Print the Target names\n",
        "from sklearn.metrics import classification_report, confusion_matrix\n",
        "import itertools\n",
        "#shuffle=False\n",
        "target_names = []\n",
        "for key in train_generator.class_indices:\n",
        "    target_names.append(key)"
      ],
      "execution_count": null,
      "outputs": []
    },
    {
      "cell_type": "code",
      "metadata": {
        "colab": {
          "base_uri": "https://localhost:8080/",
          "height": 962
        },
        "id": "CP2g8Y_3Nuo_",
        "outputId": "a29f2e08-4c1e-48df-c3f9-564a43cb8238"
      },
      "source": [
        "plot_confusion_matrix(cm, target_names, title='Confusion Matrix')"
      ],
      "execution_count": null,
      "outputs": [
        {
          "output_type": "stream",
          "name": "stdout",
          "text": [
            "Normalized confusion matrix\n"
          ]
        },
        {
          "output_type": "display_data",
          "data": {
            "image/png": "[encoded data removed]",
            "text/plain": [
              "<Figure size 2880x1080 with 2 Axes>"
            ]
          },
          "metadata": {
            "needs_background": "light"
          }
        }
      ]
    },
    {
      "cell_type": "code",
      "metadata": {
        "colab": {
          "base_uri": "https://localhost:8080/",
          "height": 234
        },
        "id": "8UgzNL9rOmk6",
        "outputId": "a6d2c3a3-50c7-4b84-8d87-9a9c0c630805"
      },
      "source": [
        "#train_confusion_matrix\n",
        "train_labels_p = y_pred\n",
        "train_true = train_generator.classes\n",
        "cm_train = confusion_matrix(train_true, train_labels_p)\n",
        "print(cm_train)"
      ],
      "execution_count": null,
      "outputs": [
        {
          "output_type": "error",
          "ename": "NameError",
          "evalue": "ignored",
          "traceback": [
            "\u001b[0;31m---------------------------------------------------------------------------\u001b[0m",
            "\u001b[0;31mNameError\u001b[0m                                 Traceback (most recent call last)",
            "\u001b[0;32m<ipython-input-1-a1e313660b30>\u001b[0m in \u001b[0;36m<module>\u001b[0;34m()\u001b[0m\n\u001b[1;32m      1\u001b[0m \u001b[0;31m#train_confusion_matrix\u001b[0m\u001b[0;34m\u001b[0m\u001b[0;34m\u001b[0m\u001b[0;34m\u001b[0m\u001b[0m\n\u001b[0;32m----> 2\u001b[0;31m \u001b[0mtrain_labels_p\u001b[0m \u001b[0;34m=\u001b[0m \u001b[0my_pred\u001b[0m\u001b[0;34m\u001b[0m\u001b[0;34m\u001b[0m\u001b[0m\n\u001b[0m\u001b[1;32m      3\u001b[0m \u001b[0mtrain_true\u001b[0m \u001b[0;34m=\u001b[0m \u001b[0mtrain_generator\u001b[0m\u001b[0;34m.\u001b[0m\u001b[0mclasses\u001b[0m\u001b[0;34m\u001b[0m\u001b[0;34m\u001b[0m\u001b[0m\n\u001b[1;32m      4\u001b[0m \u001b[0mcm_train\u001b[0m \u001b[0;34m=\u001b[0m \u001b[0mconfusion_matrix\u001b[0m\u001b[0;34m(\u001b[0m\u001b[0mtrain_true\u001b[0m\u001b[0;34m,\u001b[0m \u001b[0mtrain_labels_p\u001b[0m\u001b[0;34m)\u001b[0m\u001b[0;34m\u001b[0m\u001b[0;34m\u001b[0m\u001b[0m\n\u001b[1;32m      5\u001b[0m \u001b[0mprint\u001b[0m\u001b[0;34m(\u001b[0m\u001b[0mcm_train\u001b[0m\u001b[0;34m)\u001b[0m\u001b[0;34m\u001b[0m\u001b[0;34m\u001b[0m\u001b[0m\n",
            "\u001b[0;31mNameError\u001b[0m: name 'y_pred' is not defined"
          ]
        }
      ]
    },
    {
      "cell_type": "code",
      "metadata": {
        "id": "zbzaOkGCPRm4"
      },
      "source": [
        "#performance train data\n",
        "Accuracy_train= accuracy_score(train_true, train_labels_p)\n",
        "MSE_train= mean_squared_error(train_true, train_labels_p,squared=True)\n",
        "RMSE_train= mean_squared_error(train_true, train_labels_p,squared=False)\n",
        "MAE_train= mean_absolute_error(train_true, train_labels_p)\n",
        "Precision_train= precision_score(train_true, train_labels_p,average=None)\n",
        "Sensitivity_train = recall_score(train_true, train_labels_p,average=None)\n",
        "F1_train= f1_score(train_true, train_labels_p,average=None)"
      ],
      "execution_count": null,
      "outputs": []
    },
    {
      "cell_type": "code",
      "metadata": {
        "colab": {
          "base_uri": "https://localhost:8080/"
        },
        "id": "DaU8rmXRPXeZ",
        "outputId": "75fbf68b-d1dd-49ec-b9cf-62fe0bd3b7cc"
      },
      "source": [
        "#train performance\n",
        "print(cm_train)\n",
        "print('Accuracy_train' + str(Accuracy_train))\n",
        "print('MSE_train' + str(MSE_train))\n",
        "print('RMSE_train' + str(RMSE_train))\n",
        "print('MAE_train' + str(MAE_train))\n",
        "print('Precision_train' + str(Precision_train))\n",
        "print('Sensitivity_train' + str(Sensitivity_train))\n",
        "print('F1_score_train' + str(F1_train))"
      ],
      "execution_count": null,
      "outputs": [
        {
          "output_type": "stream",
          "name": "stdout",
          "text": [
            "[[ 18  20  17  42  35  28  30  48  45  57  14  73  24  28   5  64]\n",
            " [ 17  28  15  29  33  31  33  59  39  62  13  78  19  15   6  50]\n",
            " [ 31  28  16  47  38  33  33  64  58  73  12  78  20  30   7  60]\n",
            " [ 29  46  15  54  47  38  45  74  55  83  21  63  24  37   5  69]\n",
            " [ 41  38  18  52  50  44  38  91  59  80  25 100  26  48   6  77]\n",
            " [ 32  32  11  67  43  42  39  80  81  87  19  78  20  27   8  77]\n",
            " [ 28  23  18  31  31  28  36  55  50  52   9  65  21  16   4  61]\n",
            " [ 45  49  35  58  50  63  43  92  87 111  19  99  29  30   4  94]\n",
            " [ 46  35  27  55  54  63  37  85  72  93  19 102  30  48   3 108]\n",
            " [ 68  48  38  98  89  66  81 132 103 132  26 150  39  50  14 130]\n",
            " [  8   9   4  10  13   8   8  13   6  20   4  22   3  10   0  13]\n",
            " [ 70  43  49  74  63  64  55 124 110 125  17 115  36  51   7 114]\n",
            " [ 27  18  15  29  27  25  26  41  41  57   8  63  21  17   4  49]\n",
            " [ 23  51  18  49  48  42  23  71  64  64  20  69  30  31   8  81]\n",
            " [  5   6   1   7   6   3   4   6  10  16   1  10   1   4   1   9]\n",
            " [ 41  32  19  58  48  44  44  88  43  99  11  65  24  30   7  83]]\n",
            "Accuracy_train0.07378190255220418\n",
            "MSE_train37.23257540603248\n",
            "RMSE_train6.101850162535334\n",
            "MAE_train4.95322505800464\n",
            "Precision_train[0.03402647 0.05533597 0.05063291 0.07105263 0.07407407 0.06752412\n",
            " 0.0626087  0.08192342 0.0780065  0.10900083 0.01680672 0.09349593\n",
            " 0.05722071 0.06567797 0.01123596 0.07287094]\n",
            "Sensitivity_train[0.03284672 0.05313093 0.02547771 0.07659574 0.0630517  0.05652759\n",
            " 0.06818182 0.10132159 0.08209806 0.10443038 0.02649007 0.10295434\n",
            " 0.04487179 0.04479769 0.01111111 0.11277174]\n",
            "F1_score_train[0.03342618 0.05421104 0.03389831 0.07372014 0.06811989 0.06153846\n",
            " 0.06527652 0.09059577 0.08       0.10666667 0.02056555 0.09799744\n",
            " 0.0502994  0.0532646  0.01117318 0.08853333]\n"
          ]
        }
      ]
    },
    {
      "cell_type": "code",
      "metadata": {
        "colab": {
          "base_uri": "https://localhost:8080/"
        },
        "id": "zQC66TYINaXe",
        "outputId": "16950bb2-db48-4919-a482-bc0bdaabd36a"
      },
      "source": [
        "Test_generator.class_indices"
      ],
      "execution_count": null,
      "outputs": [
        {
          "output_type": "execute_result",
          "data": {
            "text/plain": [
              "{'abgosht': 0,\n",
              " 'adaspolo_ab_mast': 1,\n",
              " 'gheyme': 2,\n",
              " 'ghormesabzi': 3,\n",
              " 'kababtabeii': 4,\n",
              " 'kashkbademjan': 5,\n",
              " 'khorak_lobia': 6,\n",
              " 'koko_sabzi': 7,\n",
              " 'kotlet_ghoje_khyarshor': 8,\n",
              " 'lazania': 9,\n",
              " 'makarani': 10,\n",
              " 'olvie': 11,\n",
              " 'pasta': 12,\n",
              " 'sabzipolo': 13,\n",
              " 'salad_makarani': 14,\n",
              " 'zereshkpolo': 15}"
            ]
          },
          "metadata": {},
          "execution_count": 61
        }
      ]
    },
    {
      "cell_type": "code",
      "metadata": {
        "id": "uZ0E15rIekRG"
      },
      "source": [
        "#performance test data\n",
        "from sklearn.metrics import accuracy_score\n",
        "from sklearn.metrics import f1_score\n",
        "from sklearn.metrics import precision_score\n",
        "from sklearn.metrics import recall_score\n",
        "from sklearn.metrics import mean_squared_error\n",
        "from sklearn.metrics import mean_absolute_error\n",
        "\n",
        "Accuracy_test= accuracy_score(test_true, test_labels_p)\n",
        "MSE_test= mean_squared_error(test_true, test_labels_p,squared=True)\n",
        "RMSE_test= mean_squared_error(test_true, test_labels_p,squared=False)\n",
        "MAE_test= mean_absolute_error(test_true, test_labels_p)\n",
        "Precision_test= precision_score(test_true, test_labels_p,average=None)\n",
        "Sensitivity_test = recall_score(test_true, test_labels_p,average=None)\n",
        "F1_test= f1_score(test_true, test_labels_p,average=None)"
      ],
      "execution_count": null,
      "outputs": []
    },
    {
      "cell_type": "code",
      "metadata": {
        "id": "IQH6qLhqiHhS"
      },
      "source": [
        "from sklearn.metrics import classification_report, confusion_matrix\n",
        "import matplotlib.pyplot as plt\n",
        "from sklearn.utils.multiclass import unique_labels\n",
        "\n",
        "\n",
        "y_pred = y_pred\n",
        "y_true = train_generator.classes\n",
        "print('Confusion Matrix')\n",
        "print(confusion_matrix(y_true, y_pred))\n",
        "print('Classification Report')\n",
        "target_names = []\n",
        "for key in train_generator.class_indices:\n",
        "    target_names.append(key)\n",
        "print(classification_report(y_true, y_pred, target_names=target_names))\n",
        "\n",
        "def plot_confusion_matrix(y_true, y_pred, classes,\n",
        "                          normalize=False,\n",
        "                          title=None,\n",
        "                          cmap=plt.cm.Blues):\n",
        "    \"\"\"\n",
        "    This function prints and plots the confusion matrix.\n",
        "    Normalization can be applied by setting `normalize=True`.\n",
        "    \"\"\"\n",
        "    if not title:\n",
        "        if normalize:\n",
        "            title = 'Normalized confusion matrix'\n",
        "        else:\n",
        "            title = 'Confusion matrix, without normalization'\n",
        "\n",
        "    # Compute confusion matrix\n",
        "    cm = confusion_matrix(y_true, y_pred)\n",
        "    # Only use the labels that appear in the data\n",
        "    classes = classes[unique_labels(y_true, y_pred)]\n",
        "    if normalize:\n",
        "        cm = cm.astype('float') / cm.sum(axis=1)[:, np.newaxis]\n",
        "        print(\"Normalized confusion matrix\")\n",
        "    else:\n",
        "        print('Confusion matrix, without normalization')\n",
        "\n",
        "    print(cm)\n",
        "\n",
        "    fig, ax = plt.subplots()\n",
        "    im = ax.imshow(cm, interpolation='nearest', cmap=cmap)\n",
        "    ax.figure.colorbar(im, ax=ax)\n",
        "    # We want to show all ticks...\n",
        "    ax.set(xticks=np.arange(cm.shape[1]),\n",
        "           yticks=np.arange(cm.shape[0]),\n",
        "           # ... and label them with the respective list entries\n",
        "           xticklabels=classes, yticklabels=classes,\n",
        "           title=title,\n",
        "           ylabel='True',\n",
        "           xlabel='Predicted')\n",
        "\n",
        "    # Rotate the tick labels and set their alignment.\n",
        "    plt.setp(ax.get_xticklabels(), rotation=45, ha=\"right\",\n",
        "             rotation_mode=\"anchor\", fontsize=10, fontweight='bold')\n",
        "    plt.setp(ax.get_yticklabels(), fontsize=10, fontweight='bold')\n",
        "    plt.setp(ax.xaxis.get_label(), fontsize=10, fontweight='bold')\n",
        "    plt.setp(ax.yaxis.get_label(), fontsize=10, fontweight='bold')\n",
        "\n",
        "    # Loop over data dimensions and create text annotations.\n",
        "    fmt = '.2f' if normalize else 'd'\n",
        "    thresh = cm.max() / 2.\n",
        "    for i in range(cm.shape[0]):\n",
        "        for j in range(cm.shape[1]):\n",
        "            ax.text(j, i, format(cm[i, j], fmt),\n",
        "                    ha=\"center\", va=\"center\",\n",
        "                    color=\"white\" if cm[i, j] > thresh else \"black\")\n",
        "    fig.tight_layout()\n",
        "    return ax\n",
        "\n",
        "\n",
        "np.set_printoptions(precision=2)\n",
        "target_names=np.array(target_names)\n",
        "\n",
        "plot_confusion_matrix(y_true, y_pred, classes=target_names,\n",
        "                      title='Confusion matrix, without normalization')\n",
        "plt.grid(False)"
      ],
      "execution_count": null,
      "outputs": []
    },
    {
      "cell_type": "markdown",
      "source": [
        "InceptionV3\n"
      ],
      "metadata": {
        "id": "krB2ZIfNBYTJ"
      }
    },
    {
      "cell_type": "code",
      "source": [
        "img_width=300 ; img_height=300\n",
        "batch_size=8"
      ],
      "metadata": {
        "id": "O3IZKvTCCAdu"
      },
      "execution_count": null,
      "outputs": []
    },
    {
      "cell_type": "code",
      "metadata": {
        "colab": {
          "base_uri": "https://localhost:8080/"
        },
        "outputId": "309c0304-d3c4-4ac0-8458-d71f4499f45a",
        "id": "je46HmkYB_Mo"
      },
      "source": [
        "TRAINING_DIR = \"/content/drive/MyDrive/Data_Food_Consumed/new/Train\"\n",
        "\n",
        "train_datagen = ImageDataGenerator(rescale = 1/255.0)\n",
        "\n",
        "train_generator = train_datagen.flow_from_directory(TRAINING_DIR,\n",
        "                                                    batch_size=batch_size,\n",
        "                                                    class_mode='categorical',\n",
        "                                                    target_size=(img_height, img_width))"
      ],
      "execution_count": null,
      "outputs": [
        {
          "output_type": "stream",
          "name": "stdout",
          "text": [
            "Found 3248 images belonging to 16 classes.\n"
          ]
        }
      ]
    },
    {
      "cell_type": "code",
      "metadata": {
        "colab": {
          "base_uri": "https://localhost:8080/"
        },
        "outputId": "5244e74a-5912-429b-ff21-af68775150dc",
        "id": "O3e5A0I8B_Mq"
      },
      "source": [
        "VALIDATION_DIR = \"/content/drive/MyDrive/Data_Food_Consumed/new/Valid\"\n",
        "\n",
        "validation_datagen = ImageDataGenerator(rescale = 1/255.0)\n",
        "\n",
        "validation_generator = validation_datagen.flow_from_directory(VALIDATION_DIR,\n",
        "                                                              batch_size=batch_size,\n",
        "                                                              class_mode='categorical',\n",
        "                                                              target_size=(img_height, img_width))"
      ],
      "execution_count": null,
      "outputs": [
        {
          "output_type": "stream",
          "name": "stdout",
          "text": [
            "Found 422 images belonging to 16 classes.\n"
          ]
        }
      ]
    },
    {
      "cell_type": "code",
      "source": [
        "from tensorflow.keras.optimizers import Adam\n",
        "from tensorflow.keras.preprocessing.image import ImageDataGenerator\n",
        "from tensorflow.keras.layers import Conv2D, MaxPooling2D, Flatten, Dense, Dropout\n",
        "from tensorflow.keras.models import Sequential\n",
        "from tensorflow.keras.callbacks import EarlyStopping, ModelCheckpoint\n",
        "from tensorflow.keras import layers\n",
        "from tensorflow.keras import models\n",
        "import tensorflow as tf\n",
        "import matplotlib.image as img\n",
        "%matplotlib inline\n",
        "import numpy as np\n",
        "from collections import defaultdict\n",
        "import collections\n",
        "from shutil import copy\n",
        "from shutil import copytree, rmtree\n",
        "import tensorflow.keras.backend as K\n",
        "from tensorflow.keras.models import load_model\n",
        "from tensorflow.keras.preprocessing import image\n",
        "import matplotlib.pyplot as plt\n",
        "import numpy as np\n",
        "import os\n",
        "import random\n",
        "import tensorflow as tf\n",
        "import tensorflow.keras.backend as K\n",
        "from tensorflow.keras import regularizers\n",
        "from tensorflow.keras.applications.inception_v3 import InceptionV3\n",
        "from tensorflow.keras.models import Sequential, Model\n",
        "from tensorflow.keras.layers import Dense, Dropout, Activation, Flatten\n",
        "from tensorflow.keras.layers import Convolution2D, MaxPooling2D, ZeroPadding2D, GlobalAveragePooling2D, AveragePooling2D\n",
        "from tensorflow.keras.preprocessing.image import ImageDataGenerator\n",
        "from tensorflow.keras.callbacks import ModelCheckpoint, CSVLogger\n",
        "from tensorflow.keras.optimizers import SGD\n",
        "from tensorflow.keras.regularizers import l2\n",
        "from tensorflow import keras\n",
        "from tensorflow.keras import models\n",
        "import cv2"
      ],
      "metadata": {
        "id": "eSpGMVOLBaa3"
      },
      "execution_count": null,
      "outputs": []
    },
    {
      "cell_type": "code",
      "source": [
        "# Let's use a pretrained Inceptionv3 model on subset of data with 11 food classes\n",
        "K.clear_session()\n",
        "\n",
        "\n",
        "inception = InceptionV3(weights='imagenet', include_top=False)\n",
        "x = inception.output\n",
        "x = GlobalAveragePooling2D()(x)\n",
        "x = Dense(128,activation='relu')(x)\n",
        "x = Dropout(0.2)(x)\n",
        "\n",
        "\n",
        "predictions = Dense(6,kernel_regularizer=regularizers.l2(0.005), activation='softmax')(x)\n",
        "\n",
        "\n",
        "model = Model(inputs=inception.input, outputs=predictions)\n",
        "model.compile(optimizer=SGD(lr=0.001, momentum=0.9), loss='categorical_crossentropy', metrics=['accuracy'])\n",
        "model.summary()\n",
        "checkpointer = ModelCheckpoint(filepath='best_model_6class.hdf5', verbose=1, save_best_only=True)\n",
        "csv_logger = CSVLogger('history_6class.log')\n",
        "\n",
        "\n",
        "history_11class = model.fit_generator(train_generator,\n",
        "                    validation_data=validation_generator,\n",
        "                    epochs=8,\n",
        "                    verbose=1,\n",
        "                    callbacks=[csv_logger, checkpointer])\n",
        "\n",
        "model.save('model_trained_6class.hdf5')"
      ],
      "metadata": {
        "colab": {
          "base_uri": "https://localhost:8080/",
          "height": 1000
        },
        "id": "5lYyyJNIBfTx",
        "outputId": "bda934de-1a1a-4fdc-d997-7a80a93d6d76"
      },
      "execution_count": null,
      "outputs": [
        {
          "output_type": "stream",
          "name": "stderr",
          "text": [
            "WARNING:absl:`lr` is deprecated in Keras optimizer, please use `learning_rate` or use the legacy optimizer, e.g.,tf.keras.optimizers.legacy.SGD.\n"
          ]
        },
        {
          "output_type": "stream",
          "name": "stdout",
          "text": [
            "Model: \"model\"\n",
            "__________________________________________________________________________________________________\n",
            " Layer (type)                Output Shape                 Param #   Connected to                  \n",
            "==================================================================================================\n",
            " input_1 (InputLayer)        [(None, None, None, 3)]      0         []                            \n",
            "                                                                                                  \n",
            " conv2d (Conv2D)             (None, None, None, 32)       864       ['input_1[0][0]']             \n",
            "                                                                                                  \n",
            " batch_normalization (Batch  (None, None, None, 32)       96        ['conv2d[0][0]']              \n",
            " Normalization)                                                                                   \n",
            "                                                                                                  \n",
            " activation (Activation)     (None, None, None, 32)       0         ['batch_normalization[0][0]'] \n",
            "                                                                                                  \n",
            " conv2d_1 (Conv2D)           (None, None, None, 32)       9216      ['activation[0][0]']          \n",
            "                                                                                                  \n",
            " batch_normalization_1 (Bat  (None, None, None, 32)       96        ['conv2d_1[0][0]']            \n",
            " chNormalization)                                                                                 \n",
            "                                                                                                  \n",
            " activation_1 (Activation)   (None, None, None, 32)       0         ['batch_normalization_1[0][0]'\n",
            "                                                                    ]                             \n",
            "                                                                                                  \n",
            " conv2d_2 (Conv2D)           (None, None, None, 64)       18432     ['activation_1[0][0]']        \n",
            "                                                                                                  \n",
            " batch_normalization_2 (Bat  (None, None, None, 64)       192       ['conv2d_2[0][0]']            \n",
            " chNormalization)                                                                                 \n",
            "                                                                                                  \n",
            " activation_2 (Activation)   (None, None, None, 64)       0         ['batch_normalization_2[0][0]'\n",
            "                                                                    ]                             \n",
            "                                                                                                  \n",
            " max_pooling2d (MaxPooling2  (None, None, None, 64)       0         ['activation_2[0][0]']        \n",
            " D)                                                                                               \n",
            "                                                                                                  \n",
            " conv2d_3 (Conv2D)           (None, None, None, 80)       5120      ['max_pooling2d[0][0]']       \n",
            "                                                                                                  \n",
            " batch_normalization_3 (Bat  (None, None, None, 80)       240       ['conv2d_3[0][0]']            \n",
            " chNormalization)                                                                                 \n",
            "                                                                                                  \n",
            " activation_3 (Activation)   (None, None, None, 80)       0         ['batch_normalization_3[0][0]'\n",
            "                                                                    ]                             \n",
            "                                                                                                  \n",
            " conv2d_4 (Conv2D)           (None, None, None, 192)      138240    ['activation_3[0][0]']        \n",
            "                                                                                                  \n",
            " batch_normalization_4 (Bat  (None, None, None, 192)      576       ['conv2d_4[0][0]']            \n",
            " chNormalization)                                                                                 \n",
            "                                                                                                  \n",
            " activation_4 (Activation)   (None, None, None, 192)      0         ['batch_normalization_4[0][0]'\n",
            "                                                                    ]                             \n",
            "                                                                                                  \n",
            " max_pooling2d_1 (MaxPoolin  (None, None, None, 192)      0         ['activation_4[0][0]']        \n",
            " g2D)                                                                                             \n",
            "                                                                                                  \n",
            " conv2d_8 (Conv2D)           (None, None, None, 64)       12288     ['max_pooling2d_1[0][0]']     \n",
            "                                                                                                  \n",
            " batch_normalization_8 (Bat  (None, None, None, 64)       192       ['conv2d_8[0][0]']            \n",
            " chNormalization)                                                                                 \n",
            "                                                                                                  \n",
            " activation_8 (Activation)   (None, None, None, 64)       0         ['batch_normalization_8[0][0]'\n",
            "                                                                    ]                             \n",
            "                                                                                                  \n",
            " conv2d_6 (Conv2D)           (None, None, None, 48)       9216      ['max_pooling2d_1[0][0]']     \n",
            "                                                                                                  \n",
            " conv2d_9 (Conv2D)           (None, None, None, 96)       55296     ['activation_8[0][0]']        \n",
            "                                                                                                  \n",
            " batch_normalization_6 (Bat  (None, None, None, 48)       144       ['conv2d_6[0][0]']            \n",
            " chNormalization)                                                                                 \n",
            "                                                                                                  \n",
            " batch_normalization_9 (Bat  (None, None, None, 96)       288       ['conv2d_9[0][0]']            \n",
            " chNormalization)                                                                                 \n",
            "                                                                                                  \n",
            " activation_6 (Activation)   (None, None, None, 48)       0         ['batch_normalization_6[0][0]'\n",
            "                                                                    ]                             \n",
            "                                                                                                  \n",
            " activation_9 (Activation)   (None, None, None, 96)       0         ['batch_normalization_9[0][0]'\n",
            "                                                                    ]                             \n",
            "                                                                                                  \n",
            " average_pooling2d (Average  (None, None, None, 192)      0         ['max_pooling2d_1[0][0]']     \n",
            " Pooling2D)                                                                                       \n",
            "                                                                                                  \n",
            " conv2d_5 (Conv2D)           (None, None, None, 64)       12288     ['max_pooling2d_1[0][0]']     \n",
            "                                                                                                  \n",
            " conv2d_7 (Conv2D)           (None, None, None, 64)       76800     ['activation_6[0][0]']        \n",
            "                                                                                                  \n",
            " conv2d_10 (Conv2D)          (None, None, None, 96)       82944     ['activation_9[0][0]']        \n",
            "                                                                                                  \n",
            " conv2d_11 (Conv2D)          (None, None, None, 32)       6144      ['average_pooling2d[0][0]']   \n",
            "                                                                                                  \n",
            " batch_normalization_5 (Bat  (None, None, None, 64)       192       ['conv2d_5[0][0]']            \n",
            " chNormalization)                                                                                 \n",
            "                                                                                                  \n",
            " batch_normalization_7 (Bat  (None, None, None, 64)       192       ['conv2d_7[0][0]']            \n",
            " chNormalization)                                                                                 \n",
            "                                                                                                  \n",
            " batch_normalization_10 (Ba  (None, None, None, 96)       288       ['conv2d_10[0][0]']           \n",
            " tchNormalization)                                                                                \n",
            "                                                                                                  \n",
            " batch_normalization_11 (Ba  (None, None, None, 32)       96        ['conv2d_11[0][0]']           \n",
            " tchNormalization)                                                                                \n",
            "                                                                                                  \n",
            " activation_5 (Activation)   (None, None, None, 64)       0         ['batch_normalization_5[0][0]'\n",
            "                                                                    ]                             \n",
            "                                                                                                  \n",
            " activation_7 (Activation)   (None, None, None, 64)       0         ['batch_normalization_7[0][0]'\n",
            "                                                                    ]                             \n",
            "                                                                                                  \n",
            " activation_10 (Activation)  (None, None, None, 96)       0         ['batch_normalization_10[0][0]\n",
            "                                                                    ']                            \n",
            "                                                                                                  \n",
            " activation_11 (Activation)  (None, None, None, 32)       0         ['batch_normalization_11[0][0]\n",
            "                                                                    ']                            \n",
            "                                                                                                  \n",
            " mixed0 (Concatenate)        (None, None, None, 256)      0         ['activation_5[0][0]',        \n",
            "                                                                     'activation_7[0][0]',        \n",
            "                                                                     'activation_10[0][0]',       \n",
            "                                                                     'activation_11[0][0]']       \n",
            "                                                                                                  \n",
            " conv2d_15 (Conv2D)          (None, None, None, 64)       16384     ['mixed0[0][0]']              \n",
            "                                                                                                  \n",
            " batch_normalization_15 (Ba  (None, None, None, 64)       192       ['conv2d_15[0][0]']           \n",
            " tchNormalization)                                                                                \n",
            "                                                                                                  \n",
            " activation_15 (Activation)  (None, None, None, 64)       0         ['batch_normalization_15[0][0]\n",
            "                                                                    ']                            \n",
            "                                                                                                  \n",
            " conv2d_13 (Conv2D)          (None, None, None, 48)       12288     ['mixed0[0][0]']              \n",
            "                                                                                                  \n",
            " conv2d_16 (Conv2D)          (None, None, None, 96)       55296     ['activation_15[0][0]']       \n",
            "                                                                                                  \n",
            " batch_normalization_13 (Ba  (None, None, None, 48)       144       ['conv2d_13[0][0]']           \n",
            " tchNormalization)                                                                                \n",
            "                                                                                                  \n",
            " batch_normalization_16 (Ba  (None, None, None, 96)       288       ['conv2d_16[0][0]']           \n",
            " tchNormalization)                                                                                \n",
            "                                                                                                  \n",
            " activation_13 (Activation)  (None, None, None, 48)       0         ['batch_normalization_13[0][0]\n",
            "                                                                    ']                            \n",
            "                                                                                                  \n",
            " activation_16 (Activation)  (None, None, None, 96)       0         ['batch_normalization_16[0][0]\n",
            "                                                                    ']                            \n",
            "                                                                                                  \n",
            " average_pooling2d_1 (Avera  (None, None, None, 256)      0         ['mixed0[0][0]']              \n",
            " gePooling2D)                                                                                     \n",
            "                                                                                                  \n",
            " conv2d_12 (Conv2D)          (None, None, None, 64)       16384     ['mixed0[0][0]']              \n",
            "                                                                                                  \n",
            " conv2d_14 (Conv2D)          (None, None, None, 64)       76800     ['activation_13[0][0]']       \n",
            "                                                                                                  \n",
            " conv2d_17 (Conv2D)          (None, None, None, 96)       82944     ['activation_16[0][0]']       \n",
            "                                                                                                  \n",
            " conv2d_18 (Conv2D)          (None, None, None, 64)       16384     ['average_pooling2d_1[0][0]'] \n",
            "                                                                                                  \n",
            " batch_normalization_12 (Ba  (None, None, None, 64)       192       ['conv2d_12[0][0]']           \n",
            " tchNormalization)                                                                                \n",
            "                                                                                                  \n",
            " batch_normalization_14 (Ba  (None, None, None, 64)       192       ['conv2d_14[0][0]']           \n",
            " tchNormalization)                                                                                \n",
            "                                                                                                  \n",
            " batch_normalization_17 (Ba  (None, None, None, 96)       288       ['conv2d_17[0][0]']           \n",
            " tchNormalization)                                                                                \n",
            "                                                                                                  \n",
            " batch_normalization_18 (Ba  (None, None, None, 64)       192       ['conv2d_18[0][0]']           \n",
            " tchNormalization)                                                                                \n",
            "                                                                                                  \n",
            " activation_12 (Activation)  (None, None, None, 64)       0         ['batch_normalization_12[0][0]\n",
            "                                                                    ']                            \n",
            "                                                                                                  \n",
            " activation_14 (Activation)  (None, None, None, 64)       0         ['batch_normalization_14[0][0]\n",
            "                                                                    ']                            \n",
            "                                                                                                  \n",
            " activation_17 (Activation)  (None, None, None, 96)       0         ['batch_normalization_17[0][0]\n",
            "                                                                    ']                            \n",
            "                                                                                                  \n",
            " activation_18 (Activation)  (None, None, None, 64)       0         ['batch_normalization_18[0][0]\n",
            "                                                                    ']                            \n",
            "                                                                                                  \n",
            " mixed1 (Concatenate)        (None, None, None, 288)      0         ['activation_12[0][0]',       \n",
            "                                                                     'activation_14[0][0]',       \n",
            "                                                                     'activation_17[0][0]',       \n",
            "                                                                     'activation_18[0][0]']       \n",
            "                                                                                                  \n",
            " conv2d_22 (Conv2D)          (None, None, None, 64)       18432     ['mixed1[0][0]']              \n",
            "                                                                                                  \n",
            " batch_normalization_22 (Ba  (None, None, None, 64)       192       ['conv2d_22[0][0]']           \n",
            " tchNormalization)                                                                                \n",
            "                                                                                                  \n",
            " activation_22 (Activation)  (None, None, None, 64)       0         ['batch_normalization_22[0][0]\n",
            "                                                                    ']                            \n",
            "                                                                                                  \n",
            " conv2d_20 (Conv2D)          (None, None, None, 48)       13824     ['mixed1[0][0]']              \n",
            "                                                                                                  \n",
            " conv2d_23 (Conv2D)          (None, None, None, 96)       55296     ['activation_22[0][0]']       \n",
            "                                                                                                  \n",
            " batch_normalization_20 (Ba  (None, None, None, 48)       144       ['conv2d_20[0][0]']           \n",
            " tchNormalization)                                                                                \n",
            "                                                                                                  \n",
            " batch_normalization_23 (Ba  (None, None, None, 96)       288       ['conv2d_23[0][0]']           \n",
            " tchNormalization)                                                                                \n",
            "                                                                                                  \n",
            " activation_20 (Activation)  (None, None, None, 48)       0         ['batch_normalization_20[0][0]\n",
            "                                                                    ']                            \n",
            "                                                                                                  \n",
            " activation_23 (Activation)  (None, None, None, 96)       0         ['batch_normalization_23[0][0]\n",
            "                                                                    ']                            \n",
            "                                                                                                  \n",
            " average_pooling2d_2 (Avera  (None, None, None, 288)      0         ['mixed1[0][0]']              \n",
            " gePooling2D)                                                                                     \n",
            "                                                                                                  \n",
            " conv2d_19 (Conv2D)          (None, None, None, 64)       18432     ['mixed1[0][0]']              \n",
            "                                                                                                  \n",
            " conv2d_21 (Conv2D)          (None, None, None, 64)       76800     ['activation_20[0][0]']       \n",
            "                                                                                                  \n",
            " conv2d_24 (Conv2D)          (None, None, None, 96)       82944     ['activation_23[0][0]']       \n",
            "                                                                                                  \n",
            " conv2d_25 (Conv2D)          (None, None, None, 64)       18432     ['average_pooling2d_2[0][0]'] \n",
            "                                                                                                  \n",
            " batch_normalization_19 (Ba  (None, None, None, 64)       192       ['conv2d_19[0][0]']           \n",
            " tchNormalization)                                                                                \n",
            "                                                                                                  \n",
            " batch_normalization_21 (Ba  (None, None, None, 64)       192       ['conv2d_21[0][0]']           \n",
            " tchNormalization)                                                                                \n",
            "                                                                                                  \n",
            " batch_normalization_24 (Ba  (None, None, None, 96)       288       ['conv2d_24[0][0]']           \n",
            " tchNormalization)                                                                                \n",
            "                                                                                                  \n",
            " batch_normalization_25 (Ba  (None, None, None, 64)       192       ['conv2d_25[0][0]']           \n",
            " tchNormalization)                                                                                \n",
            "                                                                                                  \n",
            " activation_19 (Activation)  (None, None, None, 64)       0         ['batch_normalization_19[0][0]\n",
            "                                                                    ']                            \n",
            "                                                                                                  \n",
            " activation_21 (Activation)  (None, None, None, 64)       0         ['batch_normalization_21[0][0]\n",
            "                                                                    ']                            \n",
            "                                                                                                  \n",
            " activation_24 (Activation)  (None, None, None, 96)       0         ['batch_normalization_24[0][0]\n",
            "                                                                    ']                            \n",
            "                                                                                                  \n",
            " activation_25 (Activation)  (None, None, None, 64)       0         ['batch_normalization_25[0][0]\n",
            "                                                                    ']                            \n",
            "                                                                                                  \n",
            " mixed2 (Concatenate)        (None, None, None, 288)      0         ['activation_19[0][0]',       \n",
            "                                                                     'activation_21[0][0]',       \n",
            "                                                                     'activation_24[0][0]',       \n",
            "                                                                     'activation_25[0][0]']       \n",
            "                                                                                                  \n",
            " conv2d_27 (Conv2D)          (None, None, None, 64)       18432     ['mixed2[0][0]']              \n",
            "                                                                                                  \n",
            " batch_normalization_27 (Ba  (None, None, None, 64)       192       ['conv2d_27[0][0]']           \n",
            " tchNormalization)                                                                                \n",
            "                                                                                                  \n",
            " activation_27 (Activation)  (None, None, None, 64)       0         ['batch_normalization_27[0][0]\n",
            "                                                                    ']                            \n",
            "                                                                                                  \n",
            " conv2d_28 (Conv2D)          (None, None, None, 96)       55296     ['activation_27[0][0]']       \n",
            "                                                                                                  \n",
            " batch_normalization_28 (Ba  (None, None, None, 96)       288       ['conv2d_28[0][0]']           \n",
            " tchNormalization)                                                                                \n",
            "                                                                                                  \n",
            " activation_28 (Activation)  (None, None, None, 96)       0         ['batch_normalization_28[0][0]\n",
            "                                                                    ']                            \n",
            "                                                                                                  \n",
            " conv2d_26 (Conv2D)          (None, None, None, 384)      995328    ['mixed2[0][0]']              \n",
            "                                                                                                  \n",
            " conv2d_29 (Conv2D)          (None, None, None, 96)       82944     ['activation_28[0][0]']       \n",
            "                                                                                                  \n",
            " batch_normalization_26 (Ba  (None, None, None, 384)      1152      ['conv2d_26[0][0]']           \n",
            " tchNormalization)                                                                                \n",
            "                                                                                                  \n",
            " batch_normalization_29 (Ba  (None, None, None, 96)       288       ['conv2d_29[0][0]']           \n",
            " tchNormalization)                                                                                \n",
            "                                                                                                  \n",
            " activation_26 (Activation)  (None, None, None, 384)      0         ['batch_normalization_26[0][0]\n",
            "                                                                    ']                            \n",
            "                                                                                                  \n",
            " activation_29 (Activation)  (None, None, None, 96)       0         ['batch_normalization_29[0][0]\n",
            "                                                                    ']                            \n",
            "                                                                                                  \n",
            " max_pooling2d_2 (MaxPoolin  (None, None, None, 288)      0         ['mixed2[0][0]']              \n",
            " g2D)                                                                                             \n",
            "                                                                                                  \n",
            " mixed3 (Concatenate)        (None, None, None, 768)      0         ['activation_26[0][0]',       \n",
            "                                                                     'activation_29[0][0]',       \n",
            "                                                                     'max_pooling2d_2[0][0]']     \n",
            "                                                                                                  \n",
            " conv2d_34 (Conv2D)          (None, None, None, 128)      98304     ['mixed3[0][0]']              \n",
            "                                                                                                  \n",
            " batch_normalization_34 (Ba  (None, None, None, 128)      384       ['conv2d_34[0][0]']           \n",
            " tchNormalization)                                                                                \n",
            "                                                                                                  \n",
            " activation_34 (Activation)  (None, None, None, 128)      0         ['batch_normalization_34[0][0]\n",
            "                                                                    ']                            \n",
            "                                                                                                  \n",
            " conv2d_35 (Conv2D)          (None, None, None, 128)      114688    ['activation_34[0][0]']       \n",
            "                                                                                                  \n",
            " batch_normalization_35 (Ba  (None, None, None, 128)      384       ['conv2d_35[0][0]']           \n",
            " tchNormalization)                                                                                \n",
            "                                                                                                  \n",
            " activation_35 (Activation)  (None, None, None, 128)      0         ['batch_normalization_35[0][0]\n",
            "                                                                    ']                            \n",
            "                                                                                                  \n",
            " conv2d_31 (Conv2D)          (None, None, None, 128)      98304     ['mixed3[0][0]']              \n",
            "                                                                                                  \n",
            " conv2d_36 (Conv2D)          (None, None, None, 128)      114688    ['activation_35[0][0]']       \n",
            "                                                                                                  \n",
            " batch_normalization_31 (Ba  (None, None, None, 128)      384       ['conv2d_31[0][0]']           \n",
            " tchNormalization)                                                                                \n",
            "                                                                                                  \n",
            " batch_normalization_36 (Ba  (None, None, None, 128)      384       ['conv2d_36[0][0]']           \n",
            " tchNormalization)                                                                                \n",
            "                                                                                                  \n",
            " activation_31 (Activation)  (None, None, None, 128)      0         ['batch_normalization_31[0][0]\n",
            "                                                                    ']                            \n",
            "                                                                                                  \n",
            " activation_36 (Activation)  (None, None, None, 128)      0         ['batch_normalization_36[0][0]\n",
            "                                                                    ']                            \n",
            "                                                                                                  \n",
            " conv2d_32 (Conv2D)          (None, None, None, 128)      114688    ['activation_31[0][0]']       \n",
            "                                                                                                  \n",
            " conv2d_37 (Conv2D)          (None, None, None, 128)      114688    ['activation_36[0][0]']       \n",
            "                                                                                                  \n",
            " batch_normalization_32 (Ba  (None, None, None, 128)      384       ['conv2d_32[0][0]']           \n",
            " tchNormalization)                                                                                \n",
            "                                                                                                  \n",
            " batch_normalization_37 (Ba  (None, None, None, 128)      384       ['conv2d_37[0][0]']           \n",
            " tchNormalization)                                                                                \n",
            "                                                                                                  \n",
            " activation_32 (Activation)  (None, None, None, 128)      0         ['batch_normalization_32[0][0]\n",
            "                                                                    ']                            \n",
            "                                                                                                  \n",
            " activation_37 (Activation)  (None, None, None, 128)      0         ['batch_normalization_37[0][0]\n",
            "                                                                    ']                            \n",
            "                                                                                                  \n",
            " average_pooling2d_3 (Avera  (None, None, None, 768)      0         ['mixed3[0][0]']              \n",
            " gePooling2D)                                                                                     \n",
            "                                                                                                  \n",
            " conv2d_30 (Conv2D)          (None, None, None, 192)      147456    ['mixed3[0][0]']              \n",
            "                                                                                                  \n",
            " conv2d_33 (Conv2D)          (None, None, None, 192)      172032    ['activation_32[0][0]']       \n",
            "                                                                                                  \n",
            " conv2d_38 (Conv2D)          (None, None, None, 192)      172032    ['activation_37[0][0]']       \n",
            "                                                                                                  \n",
            " conv2d_39 (Conv2D)          (None, None, None, 192)      147456    ['average_pooling2d_3[0][0]'] \n",
            "                                                                                                  \n",
            " batch_normalization_30 (Ba  (None, None, None, 192)      576       ['conv2d_30[0][0]']           \n",
            " tchNormalization)                                                                                \n",
            "                                                                                                  \n",
            " batch_normalization_33 (Ba  (None, None, None, 192)      576       ['conv2d_33[0][0]']           \n",
            " tchNormalization)                                                                                \n",
            "                                                                                                  \n",
            " batch_normalization_38 (Ba  (None, None, None, 192)      576       ['conv2d_38[0][0]']           \n",
            " tchNormalization)                                                                                \n",
            "                                                                                                  \n",
            " batch_normalization_39 (Ba  (None, None, None, 192)      576       ['conv2d_39[0][0]']           \n",
            " tchNormalization)                                                                                \n",
            "                                                                                                  \n",
            " activation_30 (Activation)  (None, None, None, 192)      0         ['batch_normalization_30[0][0]\n",
            "                                                                    ']                            \n",
            "                                                                                                  \n",
            " activation_33 (Activation)  (None, None, None, 192)      0         ['batch_normalization_33[0][0]\n",
            "                                                                    ']                            \n",
            "                                                                                                  \n",
            " activation_38 (Activation)  (None, None, None, 192)      0         ['batch_normalization_38[0][0]\n",
            "                                                                    ']                            \n",
            "                                                                                                  \n",
            " activation_39 (Activation)  (None, None, None, 192)      0         ['batch_normalization_39[0][0]\n",
            "                                                                    ']                            \n",
            "                                                                                                  \n",
            " mixed4 (Concatenate)        (None, None, None, 768)      0         ['activation_30[0][0]',       \n",
            "                                                                     'activation_33[0][0]',       \n",
            "                                                                     'activation_38[0][0]',       \n",
            "                                                                     'activation_39[0][0]']       \n",
            "                                                                                                  \n",
            " conv2d_44 (Conv2D)          (None, None, None, 160)      122880    ['mixed4[0][0]']              \n",
            "                                                                                                  \n",
            " batch_normalization_44 (Ba  (None, None, None, 160)      480       ['conv2d_44[0][0]']           \n",
            " tchNormalization)                                                                                \n",
            "                                                                                                  \n",
            " activation_44 (Activation)  (None, None, None, 160)      0         ['batch_normalization_44[0][0]\n",
            "                                                                    ']                            \n",
            "                                                                                                  \n",
            " conv2d_45 (Conv2D)          (None, None, None, 160)      179200    ['activation_44[0][0]']       \n",
            "                                                                                                  \n",
            " batch_normalization_45 (Ba  (None, None, None, 160)      480       ['conv2d_45[0][0]']           \n",
            " tchNormalization)                                                                                \n",
            "                                                                                                  \n",
            " activation_45 (Activation)  (None, None, None, 160)      0         ['batch_normalization_45[0][0]\n",
            "                                                                    ']                            \n",
            "                                                                                                  \n",
            " conv2d_41 (Conv2D)          (None, None, None, 160)      122880    ['mixed4[0][0]']              \n",
            "                                                                                                  \n",
            " conv2d_46 (Conv2D)          (None, None, None, 160)      179200    ['activation_45[0][0]']       \n",
            "                                                                                                  \n",
            " batch_normalization_41 (Ba  (None, None, None, 160)      480       ['conv2d_41[0][0]']           \n",
            " tchNormalization)                                                                                \n",
            "                                                                                                  \n",
            " batch_normalization_46 (Ba  (None, None, None, 160)      480       ['conv2d_46[0][0]']           \n",
            " tchNormalization)                                                                                \n",
            "                                                                                                  \n",
            " activation_41 (Activation)  (None, None, None, 160)      0         ['batch_normalization_41[0][0]\n",
            "                                                                    ']                            \n",
            "                                                                                                  \n",
            " activation_46 (Activation)  (None, None, None, 160)      0         ['batch_normalization_46[0][0]\n",
            "                                                                    ']                            \n",
            "                                                                                                  \n",
            " conv2d_42 (Conv2D)          (None, None, None, 160)      179200    ['activation_41[0][0]']       \n",
            "                                                                                                  \n",
            " conv2d_47 (Conv2D)          (None, None, None, 160)      179200    ['activation_46[0][0]']       \n",
            "                                                                                                  \n",
            " batch_normalization_42 (Ba  (None, None, None, 160)      480       ['conv2d_42[0][0]']           \n",
            " tchNormalization)                                                                                \n",
            "                                                                                                  \n",
            " batch_normalization_47 (Ba  (None, None, None, 160)      480       ['conv2d_47[0][0]']           \n",
            " tchNormalization)                                                                                \n",
            "                                                                                                  \n",
            " activation_42 (Activation)  (None, None, None, 160)      0         ['batch_normalization_42[0][0]\n",
            "                                                                    ']                            \n",
            "                                                                                                  \n",
            " activation_47 (Activation)  (None, None, None, 160)      0         ['batch_normalization_47[0][0]\n",
            "                                                                    ']                            \n",
            "                                                                                                  \n",
            " average_pooling2d_4 (Avera  (None, None, None, 768)      0         ['mixed4[0][0]']              \n",
            " gePooling2D)                                                                                     \n",
            "                                                                                                  \n",
            " conv2d_40 (Conv2D)          (None, None, None, 192)      147456    ['mixed4[0][0]']              \n",
            "                                                                                                  \n",
            " conv2d_43 (Conv2D)          (None, None, None, 192)      215040    ['activation_42[0][0]']       \n",
            "                                                                                                  \n",
            " conv2d_48 (Conv2D)          (None, None, None, 192)      215040    ['activation_47[0][0]']       \n",
            "                                                                                                  \n",
            " conv2d_49 (Conv2D)          (None, None, None, 192)      147456    ['average_pooling2d_4[0][0]'] \n",
            "                                                                                                  \n",
            " batch_normalization_40 (Ba  (None, None, None, 192)      576       ['conv2d_40[0][0]']           \n",
            " tchNormalization)                                                                                \n",
            "                                                                                                  \n",
            " batch_normalization_43 (Ba  (None, None, None, 192)      576       ['conv2d_43[0][0]']           \n",
            " tchNormalization)                                                                                \n",
            "                                                                                                  \n",
            " batch_normalization_48 (Ba  (None, None, None, 192)      576       ['conv2d_48[0][0]']           \n",
            " tchNormalization)                                                                                \n",
            "                                                                                                  \n",
            " batch_normalization_49 (Ba  (None, None, None, 192)      576       ['conv2d_49[0][0]']           \n",
            " tchNormalization)                                                                                \n",
            "                                                                                                  \n",
            " activation_40 (Activation)  (None, None, None, 192)      0         ['batch_normalization_40[0][0]\n",
            "                                                                    ']                            \n",
            "                                                                                                  \n",
            " activation_43 (Activation)  (None, None, None, 192)      0         ['batch_normalization_43[0][0]\n",
            "                                                                    ']                            \n",
            "                                                                                                  \n",
            " activation_48 (Activation)  (None, None, None, 192)      0         ['batch_normalization_48[0][0]\n",
            "                                                                    ']                            \n",
            "                                                                                                  \n",
            " activation_49 (Activation)  (None, None, None, 192)      0         ['batch_normalization_49[0][0]\n",
            "                                                                    ']                            \n",
            "                                                                                                  \n",
            " mixed5 (Concatenate)        (None, None, None, 768)      0         ['activation_40[0][0]',       \n",
            "                                                                     'activation_43[0][0]',       \n",
            "                                                                     'activation_48[0][0]',       \n",
            "                                                                     'activation_49[0][0]']       \n",
            "                                                                                                  \n",
            " conv2d_54 (Conv2D)          (None, None, None, 160)      122880    ['mixed5[0][0]']              \n",
            "                                                                                                  \n",
            " batch_normalization_54 (Ba  (None, None, None, 160)      480       ['conv2d_54[0][0]']           \n",
            " tchNormalization)                                                                                \n",
            "                                                                                                  \n",
            " activation_54 (Activation)  (None, None, None, 160)      0         ['batch_normalization_54[0][0]\n",
            "                                                                    ']                            \n",
            "                                                                                                  \n",
            " conv2d_55 (Conv2D)          (None, None, None, 160)      179200    ['activation_54[0][0]']       \n",
            "                                                                                                  \n",
            " batch_normalization_55 (Ba  (None, None, None, 160)      480       ['conv2d_55[0][0]']           \n",
            " tchNormalization)                                                                                \n",
            "                                                                                                  \n",
            " activation_55 (Activation)  (None, None, None, 160)      0         ['batch_normalization_55[0][0]\n",
            "                                                                    ']                            \n",
            "                                                                                                  \n",
            " conv2d_51 (Conv2D)          (None, None, None, 160)      122880    ['mixed5[0][0]']              \n",
            "                                                                                                  \n",
            " conv2d_56 (Conv2D)          (None, None, None, 160)      179200    ['activation_55[0][0]']       \n",
            "                                                                                                  \n",
            " batch_normalization_51 (Ba  (None, None, None, 160)      480       ['conv2d_51[0][0]']           \n",
            " tchNormalization)                                                                                \n",
            "                                                                                                  \n",
            " batch_normalization_56 (Ba  (None, None, None, 160)      480       ['conv2d_56[0][0]']           \n",
            " tchNormalization)                                                                                \n",
            "                                                                                                  \n",
            " activation_51 (Activation)  (None, None, None, 160)      0         ['batch_normalization_51[0][0]\n",
            "                                                                    ']                            \n",
            "                                                                                                  \n",
            " activation_56 (Activation)  (None, None, None, 160)      0         ['batch_normalization_56[0][0]\n",
            "                                                                    ']                            \n",
            "                                                                                                  \n",
            " conv2d_52 (Conv2D)          (None, None, None, 160)      179200    ['activation_51[0][0]']       \n",
            "                                                                                                  \n",
            " conv2d_57 (Conv2D)          (None, None, None, 160)      179200    ['activation_56[0][0]']       \n",
            "                                                                                                  \n",
            " batch_normalization_52 (Ba  (None, None, None, 160)      480       ['conv2d_52[0][0]']           \n",
            " tchNormalization)                                                                                \n",
            "                                                                                                  \n",
            " batch_normalization_57 (Ba  (None, None, None, 160)      480       ['conv2d_57[0][0]']           \n",
            " tchNormalization)                                                                                \n",
            "                                                                                                  \n",
            " activation_52 (Activation)  (None, None, None, 160)      0         ['batch_normalization_52[0][0]\n",
            "                                                                    ']                            \n",
            "                                                                                                  \n",
            " activation_57 (Activation)  (None, None, None, 160)      0         ['batch_normalization_57[0][0]\n",
            "                                                                    ']                            \n",
            "                                                                                                  \n",
            " average_pooling2d_5 (Avera  (None, None, None, 768)      0         ['mixed5[0][0]']              \n",
            " gePooling2D)                                                                                     \n",
            "                                                                                                  \n",
            " conv2d_50 (Conv2D)          (None, None, None, 192)      147456    ['mixed5[0][0]']              \n",
            "                                                                                                  \n",
            " conv2d_53 (Conv2D)          (None, None, None, 192)      215040    ['activation_52[0][0]']       \n",
            "                                                                                                  \n",
            " conv2d_58 (Conv2D)          (None, None, None, 192)      215040    ['activation_57[0][0]']       \n",
            "                                                                                                  \n",
            " conv2d_59 (Conv2D)          (None, None, None, 192)      147456    ['average_pooling2d_5[0][0]'] \n",
            "                                                                                                  \n",
            " batch_normalization_50 (Ba  (None, None, None, 192)      576       ['conv2d_50[0][0]']           \n",
            " tchNormalization)                                                                                \n",
            "                                                                                                  \n",
            " batch_normalization_53 (Ba  (None, None, None, 192)      576       ['conv2d_53[0][0]']           \n",
            " tchNormalization)                                                                                \n",
            "                                                                                                  \n",
            " batch_normalization_58 (Ba  (None, None, None, 192)      576       ['conv2d_58[0][0]']           \n",
            " tchNormalization)                                                                                \n",
            "                                                                                                  \n",
            " batch_normalization_59 (Ba  (None, None, None, 192)      576       ['conv2d_59[0][0]']           \n",
            " tchNormalization)                                                                                \n",
            "                                                                                                  \n",
            " activation_50 (Activation)  (None, None, None, 192)      0         ['batch_normalization_50[0][0]\n",
            "                                                                    ']                            \n",
            "                                                                                                  \n",
            " activation_53 (Activation)  (None, None, None, 192)      0         ['batch_normalization_53[0][0]\n",
            "                                                                    ']                            \n",
            "                                                                                                  \n",
            " activation_58 (Activation)  (None, None, None, 192)      0         ['batch_normalization_58[0][0]\n",
            "                                                                    ']                            \n",
            "                                                                                                  \n",
            " activation_59 (Activation)  (None, None, None, 192)      0         ['batch_normalization_59[0][0]\n",
            "                                                                    ']                            \n",
            "                                                                                                  \n",
            " mixed6 (Concatenate)        (None, None, None, 768)      0         ['activation_50[0][0]',       \n",
            "                                                                     'activation_53[0][0]',       \n",
            "                                                                     'activation_58[0][0]',       \n",
            "                                                                     'activation_59[0][0]']       \n",
            "                                                                                                  \n",
            " conv2d_64 (Conv2D)          (None, None, None, 192)      147456    ['mixed6[0][0]']              \n",
            "                                                                                                  \n",
            " batch_normalization_64 (Ba  (None, None, None, 192)      576       ['conv2d_64[0][0]']           \n",
            " tchNormalization)                                                                                \n",
            "                                                                                                  \n",
            " activation_64 (Activation)  (None, None, None, 192)      0         ['batch_normalization_64[0][0]\n",
            "                                                                    ']                            \n",
            "                                                                                                  \n",
            " conv2d_65 (Conv2D)          (None, None, None, 192)      258048    ['activation_64[0][0]']       \n",
            "                                                                                                  \n",
            " batch_normalization_65 (Ba  (None, None, None, 192)      576       ['conv2d_65[0][0]']           \n",
            " tchNormalization)                                                                                \n",
            "                                                                                                  \n",
            " activation_65 (Activation)  (None, None, None, 192)      0         ['batch_normalization_65[0][0]\n",
            "                                                                    ']                            \n",
            "                                                                                                  \n",
            " conv2d_61 (Conv2D)          (None, None, None, 192)      147456    ['mixed6[0][0]']              \n",
            "                                                                                                  \n",
            " conv2d_66 (Conv2D)          (None, None, None, 192)      258048    ['activation_65[0][0]']       \n",
            "                                                                                                  \n",
            " batch_normalization_61 (Ba  (None, None, None, 192)      576       ['conv2d_61[0][0]']           \n",
            " tchNormalization)                                                                                \n",
            "                                                                                                  \n",
            " batch_normalization_66 (Ba  (None, None, None, 192)      576       ['conv2d_66[0][0]']           \n",
            " tchNormalization)                                                                                \n",
            "                                                                                                  \n",
            " activation_61 (Activation)  (None, None, None, 192)      0         ['batch_normalization_61[0][0]\n",
            "                                                                    ']                            \n",
            "                                                                                                  \n",
            " activation_66 (Activation)  (None, None, None, 192)      0         ['batch_normalization_66[0][0]\n",
            "                                                                    ']                            \n",
            "                                                                                                  \n",
            " conv2d_62 (Conv2D)          (None, None, None, 192)      258048    ['activation_61[0][0]']       \n",
            "                                                                                                  \n",
            " conv2d_67 (Conv2D)          (None, None, None, 192)      258048    ['activation_66[0][0]']       \n",
            "                                                                                                  \n",
            " batch_normalization_62 (Ba  (None, None, None, 192)      576       ['conv2d_62[0][0]']           \n",
            " tchNormalization)                                                                                \n",
            "                                                                                                  \n",
            " batch_normalization_67 (Ba  (None, None, None, 192)      576       ['conv2d_67[0][0]']           \n",
            " tchNormalization)                                                                                \n",
            "                                                                                                  \n",
            " activation_62 (Activation)  (None, None, None, 192)      0         ['batch_normalization_62[0][0]\n",
            "                                                                    ']                            \n",
            "                                                                                                  \n",
            " activation_67 (Activation)  (None, None, None, 192)      0         ['batch_normalization_67[0][0]\n",
            "                                                                    ']                            \n",
            "                                                                                                  \n",
            " average_pooling2d_6 (Avera  (None, None, None, 768)      0         ['mixed6[0][0]']              \n",
            " gePooling2D)                                                                                     \n",
            "                                                                                                  \n",
            " conv2d_60 (Conv2D)          (None, None, None, 192)      147456    ['mixed6[0][0]']              \n",
            "                                                                                                  \n",
            " conv2d_63 (Conv2D)          (None, None, None, 192)      258048    ['activation_62[0][0]']       \n",
            "                                                                                                  \n",
            " conv2d_68 (Conv2D)          (None, None, None, 192)      258048    ['activation_67[0][0]']       \n",
            "                                                                                                  \n",
            " conv2d_69 (Conv2D)          (None, None, None, 192)      147456    ['average_pooling2d_6[0][0]'] \n",
            "                                                                                                  \n",
            " batch_normalization_60 (Ba  (None, None, None, 192)      576       ['conv2d_60[0][0]']           \n",
            " tchNormalization)                                                                                \n",
            "                                                                                                  \n",
            " batch_normalization_63 (Ba  (None, None, None, 192)      576       ['conv2d_63[0][0]']           \n",
            " tchNormalization)                                                                                \n",
            "                                                                                                  \n",
            " batch_normalization_68 (Ba  (None, None, None, 192)      576       ['conv2d_68[0][0]']           \n",
            " tchNormalization)                                                                                \n",
            "                                                                                                  \n",
            " batch_normalization_69 (Ba  (None, None, None, 192)      576       ['conv2d_69[0][0]']           \n",
            " tchNormalization)                                                                                \n",
            "                                                                                                  \n",
            " activation_60 (Activation)  (None, None, None, 192)      0         ['batch_normalization_60[0][0]\n",
            "                                                                    ']                            \n",
            "                                                                                                  \n",
            " activation_63 (Activation)  (None, None, None, 192)      0         ['batch_normalization_63[0][0]\n",
            "                                                                    ']                            \n",
            "                                                                                                  \n",
            " activation_68 (Activation)  (None, None, None, 192)      0         ['batch_normalization_68[0][0]\n",
            "                                                                    ']                            \n",
            "                                                                                                  \n",
            " activation_69 (Activation)  (None, None, None, 192)      0         ['batch_normalization_69[0][0]\n",
            "                                                                    ']                            \n",
            "                                                                                                  \n",
            " mixed7 (Concatenate)        (None, None, None, 768)      0         ['activation_60[0][0]',       \n",
            "                                                                     'activation_63[0][0]',       \n",
            "                                                                     'activation_68[0][0]',       \n",
            "                                                                     'activation_69[0][0]']       \n",
            "                                                                                                  \n",
            " conv2d_72 (Conv2D)          (None, None, None, 192)      147456    ['mixed7[0][0]']              \n",
            "                                                                                                  \n",
            " batch_normalization_72 (Ba  (None, None, None, 192)      576       ['conv2d_72[0][0]']           \n",
            " tchNormalization)                                                                                \n",
            "                                                                                                  \n",
            " activation_72 (Activation)  (None, None, None, 192)      0         ['batch_normalization_72[0][0]\n",
            "                                                                    ']                            \n",
            "                                                                                                  \n",
            " conv2d_73 (Conv2D)          (None, None, None, 192)      258048    ['activation_72[0][0]']       \n",
            "                                                                                                  \n",
            " batch_normalization_73 (Ba  (None, None, None, 192)      576       ['conv2d_73[0][0]']           \n",
            " tchNormalization)                                                                                \n",
            "                                                                                                  \n",
            " activation_73 (Activation)  (None, None, None, 192)      0         ['batch_normalization_73[0][0]\n",
            "                                                                    ']                            \n",
            "                                                                                                  \n",
            " conv2d_70 (Conv2D)          (None, None, None, 192)      147456    ['mixed7[0][0]']              \n",
            "                                                                                                  \n",
            " conv2d_74 (Conv2D)          (None, None, None, 192)      258048    ['activation_73[0][0]']       \n",
            "                                                                                                  \n",
            " batch_normalization_70 (Ba  (None, None, None, 192)      576       ['conv2d_70[0][0]']           \n",
            " tchNormalization)                                                                                \n",
            "                                                                                                  \n",
            " batch_normalization_74 (Ba  (None, None, None, 192)      576       ['conv2d_74[0][0]']           \n",
            " tchNormalization)                                                                                \n",
            "                                                                                                  \n",
            " activation_70 (Activation)  (None, None, None, 192)      0         ['batch_normalization_70[0][0]\n",
            "                                                                    ']                            \n",
            "                                                                                                  \n",
            " activation_74 (Activation)  (None, None, None, 192)      0         ['batch_normalization_74[0][0]\n",
            "                                                                    ']                            \n",
            "                                                                                                  \n",
            " conv2d_71 (Conv2D)          (None, None, None, 320)      552960    ['activation_70[0][0]']       \n",
            "                                                                                                  \n",
            " conv2d_75 (Conv2D)          (None, None, None, 192)      331776    ['activation_74[0][0]']       \n",
            "                                                                                                  \n",
            " batch_normalization_71 (Ba  (None, None, None, 320)      960       ['conv2d_71[0][0]']           \n",
            " tchNormalization)                                                                                \n",
            "                                                                                                  \n",
            " batch_normalization_75 (Ba  (None, None, None, 192)      576       ['conv2d_75[0][0]']           \n",
            " tchNormalization)                                                                                \n",
            "                                                                                                  \n",
            " activation_71 (Activation)  (None, None, None, 320)      0         ['batch_normalization_71[0][0]\n",
            "                                                                    ']                            \n",
            "                                                                                                  \n",
            " activation_75 (Activation)  (None, None, None, 192)      0         ['batch_normalization_75[0][0]\n",
            "                                                                    ']                            \n",
            "                                                                                                  \n",
            " max_pooling2d_3 (MaxPoolin  (None, None, None, 768)      0         ['mixed7[0][0]']              \n",
            " g2D)                                                                                             \n",
            "                                                                                                  \n",
            " mixed8 (Concatenate)        (None, None, None, 1280)     0         ['activation_71[0][0]',       \n",
            "                                                                     'activation_75[0][0]',       \n",
            "                                                                     'max_pooling2d_3[0][0]']     \n",
            "                                                                                                  \n",
            " conv2d_80 (Conv2D)          (None, None, None, 448)      573440    ['mixed8[0][0]']              \n",
            "                                                                                                  \n",
            " batch_normalization_80 (Ba  (None, None, None, 448)      1344      ['conv2d_80[0][0]']           \n",
            " tchNormalization)                                                                                \n",
            "                                                                                                  \n",
            " activation_80 (Activation)  (None, None, None, 448)      0         ['batch_normalization_80[0][0]\n",
            "                                                                    ']                            \n",
            "                                                                                                  \n",
            " conv2d_77 (Conv2D)          (None, None, None, 384)      491520    ['mixed8[0][0]']              \n",
            "                                                                                                  \n",
            " conv2d_81 (Conv2D)          (None, None, None, 384)      1548288   ['activation_80[0][0]']       \n",
            "                                                                                                  \n",
            " batch_normalization_77 (Ba  (None, None, None, 384)      1152      ['conv2d_77[0][0]']           \n",
            " tchNormalization)                                                                                \n",
            "                                                                                                  \n",
            " batch_normalization_81 (Ba  (None, None, None, 384)      1152      ['conv2d_81[0][0]']           \n",
            " tchNormalization)                                                                                \n",
            "                                                                                                  \n",
            " activation_77 (Activation)  (None, None, None, 384)      0         ['batch_normalization_77[0][0]\n",
            "                                                                    ']                            \n",
            "                                                                                                  \n",
            " activation_81 (Activation)  (None, None, None, 384)      0         ['batch_normalization_81[0][0]\n",
            "                                                                    ']                            \n",
            "                                                                                                  \n",
            " conv2d_78 (Conv2D)          (None, None, None, 384)      442368    ['activation_77[0][0]']       \n",
            "                                                                                                  \n",
            " conv2d_79 (Conv2D)          (None, None, None, 384)      442368    ['activation_77[0][0]']       \n",
            "                                                                                                  \n",
            " conv2d_82 (Conv2D)          (None, None, None, 384)      442368    ['activation_81[0][0]']       \n",
            "                                                                                                  \n",
            " conv2d_83 (Conv2D)          (None, None, None, 384)      442368    ['activation_81[0][0]']       \n",
            "                                                                                                  \n",
            " average_pooling2d_7 (Avera  (None, None, None, 1280)     0         ['mixed8[0][0]']              \n",
            " gePooling2D)                                                                                     \n",
            "                                                                                                  \n",
            " conv2d_76 (Conv2D)          (None, None, None, 320)      409600    ['mixed8[0][0]']              \n",
            "                                                                                                  \n",
            " batch_normalization_78 (Ba  (None, None, None, 384)      1152      ['conv2d_78[0][0]']           \n",
            " tchNormalization)                                                                                \n",
            "                                                                                                  \n",
            " batch_normalization_79 (Ba  (None, None, None, 384)      1152      ['conv2d_79[0][0]']           \n",
            " tchNormalization)                                                                                \n",
            "                                                                                                  \n",
            " batch_normalization_82 (Ba  (None, None, None, 384)      1152      ['conv2d_82[0][0]']           \n",
            " tchNormalization)                                                                                \n",
            "                                                                                                  \n",
            " batch_normalization_83 (Ba  (None, None, None, 384)      1152      ['conv2d_83[0][0]']           \n",
            " tchNormalization)                                                                                \n",
            "                                                                                                  \n",
            " conv2d_84 (Conv2D)          (None, None, None, 192)      245760    ['average_pooling2d_7[0][0]'] \n",
            "                                                                                                  \n",
            " batch_normalization_76 (Ba  (None, None, None, 320)      960       ['conv2d_76[0][0]']           \n",
            " tchNormalization)                                                                                \n",
            "                                                                                                  \n",
            " activation_78 (Activation)  (None, None, None, 384)      0         ['batch_normalization_78[0][0]\n",
            "                                                                    ']                            \n",
            "                                                                                                  \n",
            " activation_79 (Activation)  (None, None, None, 384)      0         ['batch_normalization_79[0][0]\n",
            "                                                                    ']                            \n",
            "                                                                                                  \n",
            " activation_82 (Activation)  (None, None, None, 384)      0         ['batch_normalization_82[0][0]\n",
            "                                                                    ']                            \n",
            "                                                                                                  \n",
            " activation_83 (Activation)  (None, None, None, 384)      0         ['batch_normalization_83[0][0]\n",
            "                                                                    ']                            \n",
            "                                                                                                  \n",
            " batch_normalization_84 (Ba  (None, None, None, 192)      576       ['conv2d_84[0][0]']           \n",
            " tchNormalization)                                                                                \n",
            "                                                                                                  \n",
            " activation_76 (Activation)  (None, None, None, 320)      0         ['batch_normalization_76[0][0]\n",
            "                                                                    ']                            \n",
            "                                                                                                  \n",
            " mixed9_0 (Concatenate)      (None, None, None, 768)      0         ['activation_78[0][0]',       \n",
            "                                                                     'activation_79[0][0]']       \n",
            "                                                                                                  \n",
            " concatenate (Concatenate)   (None, None, None, 768)      0         ['activation_82[0][0]',       \n",
            "                                                                     'activation_83[0][0]']       \n",
            "                                                                                                  \n",
            " activation_84 (Activation)  (None, None, None, 192)      0         ['batch_normalization_84[0][0]\n",
            "                                                                    ']                            \n",
            "                                                                                                  \n",
            " mixed9 (Concatenate)        (None, None, None, 2048)     0         ['activation_76[0][0]',       \n",
            "                                                                     'mixed9_0[0][0]',            \n",
            "                                                                     'concatenate[0][0]',         \n",
            "                                                                     'activation_84[0][0]']       \n",
            "                                                                                                  \n",
            " conv2d_89 (Conv2D)          (None, None, None, 448)      917504    ['mixed9[0][0]']              \n",
            "                                                                                                  \n",
            " batch_normalization_89 (Ba  (None, None, None, 448)      1344      ['conv2d_89[0][0]']           \n",
            " tchNormalization)                                                                                \n",
            "                                                                                                  \n",
            " activation_89 (Activation)  (None, None, None, 448)      0         ['batch_normalization_89[0][0]\n",
            "                                                                    ']                            \n",
            "                                                                                                  \n",
            " conv2d_86 (Conv2D)          (None, None, None, 384)      786432    ['mixed9[0][0]']              \n",
            "                                                                                                  \n",
            " conv2d_90 (Conv2D)          (None, None, None, 384)      1548288   ['activation_89[0][0]']       \n",
            "                                                                                                  \n",
            " batch_normalization_86 (Ba  (None, None, None, 384)      1152      ['conv2d_86[0][0]']           \n",
            " tchNormalization)                                                                                \n",
            "                                                                                                  \n",
            " batch_normalization_90 (Ba  (None, None, None, 384)      1152      ['conv2d_90[0][0]']           \n",
            " tchNormalization)                                                                                \n",
            "                                                                                                  \n",
            " activation_86 (Activation)  (None, None, None, 384)      0         ['batch_normalization_86[0][0]\n",
            "                                                                    ']                            \n",
            "                                                                                                  \n",
            " activation_90 (Activation)  (None, None, None, 384)      0         ['batch_normalization_90[0][0]\n",
            "                                                                    ']                            \n",
            "                                                                                                  \n",
            " conv2d_87 (Conv2D)          (None, None, None, 384)      442368    ['activation_86[0][0]']       \n",
            "                                                                                                  \n",
            " conv2d_88 (Conv2D)          (None, None, None, 384)      442368    ['activation_86[0][0]']       \n",
            "                                                                                                  \n",
            " conv2d_91 (Conv2D)          (None, None, None, 384)      442368    ['activation_90[0][0]']       \n",
            "                                                                                                  \n",
            " conv2d_92 (Conv2D)          (None, None, None, 384)      442368    ['activation_90[0][0]']       \n",
            "                                                                                                  \n",
            " average_pooling2d_8 (Avera  (None, None, None, 2048)     0         ['mixed9[0][0]']              \n",
            " gePooling2D)                                                                                     \n",
            "                                                                                                  \n",
            " conv2d_85 (Conv2D)          (None, None, None, 320)      655360    ['mixed9[0][0]']              \n",
            "                                                                                                  \n",
            " batch_normalization_87 (Ba  (None, None, None, 384)      1152      ['conv2d_87[0][0]']           \n",
            " tchNormalization)                                                                                \n",
            "                                                                                                  \n",
            " batch_normalization_88 (Ba  (None, None, None, 384)      1152      ['conv2d_88[0][0]']           \n",
            " tchNormalization)                                                                                \n",
            "                                                                                                  \n",
            " batch_normalization_91 (Ba  (None, None, None, 384)      1152      ['conv2d_91[0][0]']           \n",
            " tchNormalization)                                                                                \n",
            "                                                                                                  \n",
            " batch_normalization_92 (Ba  (None, None, None, 384)      1152      ['conv2d_92[0][0]']           \n",
            " tchNormalization)                                                                                \n",
            "                                                                                                  \n",
            " conv2d_93 (Conv2D)          (None, None, None, 192)      393216    ['average_pooling2d_8[0][0]'] \n",
            "                                                                                                  \n",
            " batch_normalization_85 (Ba  (None, None, None, 320)      960       ['conv2d_85[0][0]']           \n",
            " tchNormalization)                                                                                \n",
            "                                                                                                  \n",
            " activation_87 (Activation)  (None, None, None, 384)      0         ['batch_normalization_87[0][0]\n",
            "                                                                    ']                            \n",
            "                                                                                                  \n",
            " activation_88 (Activation)  (None, None, None, 384)      0         ['batch_normalization_88[0][0]\n",
            "                                                                    ']                            \n",
            "                                                                                                  \n",
            " activation_91 (Activation)  (None, None, None, 384)      0         ['batch_normalization_91[0][0]\n",
            "                                                                    ']                            \n",
            "                                                                                                  \n",
            " activation_92 (Activation)  (None, None, None, 384)      0         ['batch_normalization_92[0][0]\n",
            "                                                                    ']                            \n",
            "                                                                                                  \n",
            " batch_normalization_93 (Ba  (None, None, None, 192)      576       ['conv2d_93[0][0]']           \n",
            " tchNormalization)                                                                                \n",
            "                                                                                                  \n",
            " activation_85 (Activation)  (None, None, None, 320)      0         ['batch_normalization_85[0][0]\n",
            "                                                                    ']                            \n",
            "                                                                                                  \n",
            " mixed9_1 (Concatenate)      (None, None, None, 768)      0         ['activation_87[0][0]',       \n",
            "                                                                     'activation_88[0][0]']       \n",
            "                                                                                                  \n",
            " concatenate_1 (Concatenate  (None, None, None, 768)      0         ['activation_91[0][0]',       \n",
            " )                                                                   'activation_92[0][0]']       \n",
            "                                                                                                  \n",
            " activation_93 (Activation)  (None, None, None, 192)      0         ['batch_normalization_93[0][0]\n",
            "                                                                    ']                            \n",
            "                                                                                                  \n",
            " mixed10 (Concatenate)       (None, None, None, 2048)     0         ['activation_85[0][0]',       \n",
            "                                                                     'mixed9_1[0][0]',            \n",
            "                                                                     'concatenate_1[0][0]',       \n",
            "                                                                     'activation_93[0][0]']       \n",
            "                                                                                                  \n",
            " global_average_pooling2d (  (None, 2048)                 0         ['mixed10[0][0]']             \n",
            " GlobalAveragePooling2D)                                                                          \n",
            "                                                                                                  \n",
            " dense (Dense)               (None, 128)                  262272    ['global_average_pooling2d[0][\n",
            "                                                                    0]']                          \n",
            "                                                                                                  \n",
            " dropout (Dropout)           (None, 128)                  0         ['dense[0][0]']               \n",
            "                                                                                                  \n",
            " dense_1 (Dense)             (None, 6)                    774       ['dropout[0][0]']             \n",
            "                                                                                                  \n",
            "==================================================================================================\n",
            "Total params: 22065830 (84.17 MB)\n",
            "Trainable params: 22031398 (84.04 MB)\n",
            "Non-trainable params: 34432 (134.50 KB)\n",
            "__________________________________________________________________________________________________\n"
          ]
        },
        {
          "output_type": "stream",
          "name": "stderr",
          "text": [
            "<ipython-input-15-306f21f8f94d>:22: UserWarning: `Model.fit_generator` is deprecated and will be removed in a future version. Please use `Model.fit`, which supports generators.\n",
            "  history_11class = model.fit_generator(train_generator,\n"
          ]
        },
        {
          "output_type": "stream",
          "name": "stdout",
          "text": [
            "Epoch 1/8\n"
          ]
        },
        {
          "output_type": "error",
          "ename": "InvalidArgumentError",
          "evalue": "Graph execution error:\n\nDetected at node categorical_crossentropy/softmax_cross_entropy_with_logits defined at (most recent call last):\n  File \"/usr/lib/python3.10/runpy.py\", line 196, in _run_module_as_main\n\n  File \"/usr/lib/python3.10/runpy.py\", line 86, in _run_code\n\n  File \"/usr/local/lib/python3.10/dist-packages/colab_kernel_launcher.py\", line 37, in <module>\n\n  File \"/usr/local/lib/python3.10/dist-packages/traitlets/config/application.py\", line 992, in launch_instance\n\n  File \"/usr/local/lib/python3.10/dist-packages/ipykernel/kernelapp.py\", line 619, in start\n\n  File \"/usr/local/lib/python3.10/dist-packages/tornado/platform/asyncio.py\", line 195, in start\n\n  File \"/usr/lib/python3.10/asyncio/base_events.py\", line 603, in run_forever\n\n  File \"/usr/lib/python3.10/asyncio/base_events.py\", line 1909, in _run_once\n\n  File \"/usr/lib/python3.10/asyncio/events.py\", line 80, in _run\n\n  File \"/usr/local/lib/python3.10/dist-packages/tornado/ioloop.py\", line 685, in <lambda>\n\n  File \"/usr/local/lib/python3.10/dist-packages/tornado/ioloop.py\", line 738, in _run_callback\n\n  File \"/usr/local/lib/python3.10/dist-packages/tornado/gen.py\", line 825, in inner\n\n  File \"/usr/local/lib/python3.10/dist-packages/tornado/gen.py\", line 786, in run\n\n  File \"/usr/local/lib/python3.10/dist-packages/ipykernel/kernelbase.py\", line 361, in process_one\n\n  File \"/usr/local/lib/python3.10/dist-packages/tornado/gen.py\", line 234, in wrapper\n\n  File \"/usr/local/lib/python3.10/dist-packages/ipykernel/kernelbase.py\", line 261, in dispatch_shell\n\n  File \"/usr/local/lib/python3.10/dist-packages/tornado/gen.py\", line 234, in wrapper\n\n  File \"/usr/local/lib/python3.10/dist-packages/ipykernel/kernelbase.py\", line 539, in execute_request\n\n  File \"/usr/local/lib/python3.10/dist-packages/tornado/gen.py\", line 234, in wrapper\n\n  File \"/usr/local/lib/python3.10/dist-packages/ipykernel/ipkernel.py\", line 302, in do_execute\n\n  File \"/usr/local/lib/python3.10/dist-packages/ipykernel/zmqshell.py\", line 539, in run_cell\n\n  File \"/usr/local/lib/python3.10/dist-packages/IPython/core/interactiveshell.py\", line 2975, in run_cell\n\n  File \"/usr/local/lib/python3.10/dist-packages/IPython/core/interactiveshell.py\", line 3030, in _run_cell\n\n  File \"/usr/local/lib/python3.10/dist-packages/IPython/core/async_helpers.py\", line 78, in _pseudo_sync_runner\n\n  File \"/usr/local/lib/python3.10/dist-packages/IPython/core/interactiveshell.py\", line 3257, in run_cell_async\n\n  File \"/usr/local/lib/python3.10/dist-packages/IPython/core/interactiveshell.py\", line 3473, in run_ast_nodes\n\n  File \"/usr/local/lib/python3.10/dist-packages/IPython/core/interactiveshell.py\", line 3553, in run_code\n\n  File \"<ipython-input-15-306f21f8f94d>\", line 22, in <cell line: 22>\n\n  File \"/usr/local/lib/python3.10/dist-packages/keras/src/engine/training.py\", line 2913, in fit_generator\n\n  File \"/usr/local/lib/python3.10/dist-packages/keras/src/utils/traceback_utils.py\", line 65, in error_handler\n\n  File \"/usr/local/lib/python3.10/dist-packages/keras/src/engine/training.py\", line 1807, in fit\n\n  File \"/usr/local/lib/python3.10/dist-packages/keras/src/engine/training.py\", line 1401, in train_function\n\n  File \"/usr/local/lib/python3.10/dist-packages/keras/src/engine/training.py\", line 1384, in step_function\n\n  File \"/usr/local/lib/python3.10/dist-packages/keras/src/engine/training.py\", line 1373, in run_step\n\n  File \"/usr/local/lib/python3.10/dist-packages/keras/src/engine/training.py\", line 1151, in train_step\n\n  File \"/usr/local/lib/python3.10/dist-packages/keras/src/engine/training.py\", line 1209, in compute_loss\n\n  File \"/usr/local/lib/python3.10/dist-packages/keras/src/engine/compile_utils.py\", line 277, in __call__\n\n  File \"/usr/local/lib/python3.10/dist-packages/keras/src/losses.py\", line 143, in __call__\n\n  File \"/usr/local/lib/python3.10/dist-packages/keras/src/losses.py\", line 270, in call\n\n  File \"/usr/local/lib/python3.10/dist-packages/keras/src/losses.py\", line 2221, in categorical_crossentropy\n\n  File \"/usr/local/lib/python3.10/dist-packages/keras/src/backend.py\", line 5579, in categorical_crossentropy\n\nlogits and labels must be broadcastable: logits_size=[8,6] labels_size=[8,16]\n\t [[{{node categorical_crossentropy/softmax_cross_entropy_with_logits}}]] [Op:__inference_train_function_56333]",
          "traceback": [
            "\u001b[0;31m---------------------------------------------------------------------------\u001b[0m",
            "\u001b[0;31mInvalidArgumentError\u001b[0m                      Traceback (most recent call last)",
            "\u001b[0;32m<ipython-input-15-306f21f8f94d>\u001b[0m in \u001b[0;36m<cell line: 22>\u001b[0;34m()\u001b[0m\n\u001b[1;32m     20\u001b[0m \u001b[0;34m\u001b[0m\u001b[0m\n\u001b[1;32m     21\u001b[0m \u001b[0;34m\u001b[0m\u001b[0m\n\u001b[0;32m---> 22\u001b[0;31m history_11class = model.fit_generator(train_generator,\n\u001b[0m\u001b[1;32m     23\u001b[0m                     \u001b[0mvalidation_data\u001b[0m\u001b[0;34m=\u001b[0m\u001b[0mvalidation_generator\u001b[0m\u001b[0;34m,\u001b[0m\u001b[0;34m\u001b[0m\u001b[0;34m\u001b[0m\u001b[0m\n\u001b[1;32m     24\u001b[0m                     \u001b[0mepochs\u001b[0m\u001b[0;34m=\u001b[0m\u001b[0;36m8\u001b[0m\u001b[0;34m,\u001b[0m\u001b[0;34m\u001b[0m\u001b[0;34m\u001b[0m\u001b[0m\n",
            "\u001b[0;32m/usr/local/lib/python3.10/dist-packages/keras/src/engine/training.py\u001b[0m in \u001b[0;36mfit_generator\u001b[0;34m(self, generator, steps_per_epoch, epochs, verbose, callbacks, validation_data, validation_steps, validation_freq, class_weight, max_queue_size, workers, use_multiprocessing, shuffle, initial_epoch)\u001b[0m\n\u001b[1;32m   2911\u001b[0m             \u001b[0mstacklevel\u001b[0m\u001b[0;34m=\u001b[0m\u001b[0;36m2\u001b[0m\u001b[0;34m,\u001b[0m\u001b[0;34m\u001b[0m\u001b[0;34m\u001b[0m\u001b[0m\n\u001b[1;32m   2912\u001b[0m         )\n\u001b[0;32m-> 2913\u001b[0;31m         return self.fit(\n\u001b[0m\u001b[1;32m   2914\u001b[0m             \u001b[0mgenerator\u001b[0m\u001b[0;34m,\u001b[0m\u001b[0;34m\u001b[0m\u001b[0;34m\u001b[0m\u001b[0m\n\u001b[1;32m   2915\u001b[0m             \u001b[0msteps_per_epoch\u001b[0m\u001b[0;34m=\u001b[0m\u001b[0msteps_per_epoch\u001b[0m\u001b[0;34m,\u001b[0m\u001b[0;34m\u001b[0m\u001b[0;34m\u001b[0m\u001b[0m\n",
            "\u001b[0;32m/usr/local/lib/python3.10/dist-packages/keras/src/utils/traceback_utils.py\u001b[0m in \u001b[0;36merror_handler\u001b[0;34m(*args, **kwargs)\u001b[0m\n\u001b[1;32m     68\u001b[0m             \u001b[0;31m# To get the full stack trace, call:\u001b[0m\u001b[0;34m\u001b[0m\u001b[0;34m\u001b[0m\u001b[0m\n\u001b[1;32m     69\u001b[0m             \u001b[0;31m# `tf.debugging.disable_traceback_filtering()`\u001b[0m\u001b[0;34m\u001b[0m\u001b[0;34m\u001b[0m\u001b[0m\n\u001b[0;32m---> 70\u001b[0;31m             \u001b[0;32mraise\u001b[0m \u001b[0me\u001b[0m\u001b[0;34m.\u001b[0m\u001b[0mwith_traceback\u001b[0m\u001b[0;34m(\u001b[0m\u001b[0mfiltered_tb\u001b[0m\u001b[0;34m)\u001b[0m \u001b[0;32mfrom\u001b[0m \u001b[0;32mNone\u001b[0m\u001b[0;34m\u001b[0m\u001b[0;34m\u001b[0m\u001b[0m\n\u001b[0m\u001b[1;32m     71\u001b[0m         \u001b[0;32mfinally\u001b[0m\u001b[0;34m:\u001b[0m\u001b[0;34m\u001b[0m\u001b[0;34m\u001b[0m\u001b[0m\n\u001b[1;32m     72\u001b[0m             \u001b[0;32mdel\u001b[0m \u001b[0mfiltered_tb\u001b[0m\u001b[0;34m\u001b[0m\u001b[0;34m\u001b[0m\u001b[0m\n",
            "\u001b[0;32m/usr/local/lib/python3.10/dist-packages/tensorflow/python/eager/execute.py\u001b[0m in \u001b[0;36mquick_execute\u001b[0;34m(op_name, num_outputs, inputs, attrs, ctx, name)\u001b[0m\n\u001b[1;32m     51\u001b[0m   \u001b[0;32mtry\u001b[0m\u001b[0;34m:\u001b[0m\u001b[0;34m\u001b[0m\u001b[0;34m\u001b[0m\u001b[0m\n\u001b[1;32m     52\u001b[0m     \u001b[0mctx\u001b[0m\u001b[0;34m.\u001b[0m\u001b[0mensure_initialized\u001b[0m\u001b[0;34m(\u001b[0m\u001b[0;34m)\u001b[0m\u001b[0;34m\u001b[0m\u001b[0;34m\u001b[0m\u001b[0m\n\u001b[0;32m---> 53\u001b[0;31m     tensors = pywrap_tfe.TFE_Py_Execute(ctx._handle, device_name, op_name,\n\u001b[0m\u001b[1;32m     54\u001b[0m                                         inputs, attrs, num_outputs)\n\u001b[1;32m     55\u001b[0m   \u001b[0;32mexcept\u001b[0m \u001b[0mcore\u001b[0m\u001b[0;34m.\u001b[0m\u001b[0m_NotOkStatusException\u001b[0m \u001b[0;32mas\u001b[0m \u001b[0me\u001b[0m\u001b[0;34m:\u001b[0m\u001b[0;34m\u001b[0m\u001b[0;34m\u001b[0m\u001b[0m\n",
            "\u001b[0;31mInvalidArgumentError\u001b[0m: Graph execution error:\n\nDetected at node categorical_crossentropy/softmax_cross_entropy_with_logits defined at (most recent call last):\n  File \"/usr/lib/python3.10/runpy.py\", line 196, in _run_module_as_main\n\n  File \"/usr/lib/python3.10/runpy.py\", line 86, in _run_code\n\n  File \"/usr/local/lib/python3.10/dist-packages/colab_kernel_launcher.py\", line 37, in <module>\n\n  File \"/usr/local/lib/python3.10/dist-packages/traitlets/config/application.py\", line 992, in launch_instance\n\n  File \"/usr/local/lib/python3.10/dist-packages/ipykernel/kernelapp.py\", line 619, in start\n\n  File \"/usr/local/lib/python3.10/dist-packages/tornado/platform/asyncio.py\", line 195, in start\n\n  File \"/usr/lib/python3.10/asyncio/base_events.py\", line 603, in run_forever\n\n  File \"/usr/lib/python3.10/asyncio/base_events.py\", line 1909, in _run_once\n\n  File \"/usr/lib/python3.10/asyncio/events.py\", line 80, in _run\n\n  File \"/usr/local/lib/python3.10/dist-packages/tornado/ioloop.py\", line 685, in <lambda>\n\n  File \"/usr/local/lib/python3.10/dist-packages/tornado/ioloop.py\", line 738, in _run_callback\n\n  File \"/usr/local/lib/python3.10/dist-packages/tornado/gen.py\", line 825, in inner\n\n  File \"/usr/local/lib/python3.10/dist-packages/tornado/gen.py\", line 786, in run\n\n  File \"/usr/local/lib/python3.10/dist-packages/ipykernel/kernelbase.py\", line 361, in process_one\n\n  File \"/usr/local/lib/python3.10/dist-packages/tornado/gen.py\", line 234, in wrapper\n\n  File \"/usr/local/lib/python3.10/dist-packages/ipykernel/kernelbase.py\", line 261, in dispatch_shell\n\n  File \"/usr/local/lib/python3.10/dist-packages/tornado/gen.py\", line 234, in wrapper\n\n  File \"/usr/local/lib/python3.10/dist-packages/ipykernel/kernelbase.py\", line 539, in execute_request\n\n  File \"/usr/local/lib/python3.10/dist-packages/tornado/gen.py\", line 234, in wrapper\n\n  File \"/usr/local/lib/python3.10/dist-packages/ipykernel/ipkernel.py\", line 302, in do_execute\n\n  File \"/usr/local/lib/python3.10/dist-packages/ipykernel/zmqshell.py\", line 539, in run_cell\n\n  File \"/usr/local/lib/python3.10/dist-packages/IPython/core/interactiveshell.py\", line 2975, in run_cell\n\n  File \"/usr/local/lib/python3.10/dist-packages/IPython/core/interactiveshell.py\", line 3030, in _run_cell\n\n  File \"/usr/local/lib/python3.10/dist-packages/IPython/core/async_helpers.py\", line 78, in _pseudo_sync_runner\n\n  File \"/usr/local/lib/python3.10/dist-packages/IPython/core/interactiveshell.py\", line 3257, in run_cell_async\n\n  File \"/usr/local/lib/python3.10/dist-packages/IPython/core/interactiveshell.py\", line 3473, in run_ast_nodes\n\n  File \"/usr/local/lib/python3.10/dist-packages/IPython/core/interactiveshell.py\", line 3553, in run_code\n\n  File \"<ipython-input-15-306f21f8f94d>\", line 22, in <cell line: 22>\n\n  File \"/usr/local/lib/python3.10/dist-packages/keras/src/engine/training.py\", line 2913, in fit_generator\n\n  File \"/usr/local/lib/python3.10/dist-packages/keras/src/utils/traceback_utils.py\", line 65, in error_handler\n\n  File \"/usr/local/lib/python3.10/dist-packages/keras/src/engine/training.py\", line 1807, in fit\n\n  File \"/usr/local/lib/python3.10/dist-packages/keras/src/engine/training.py\", line 1401, in train_function\n\n  File \"/usr/local/lib/python3.10/dist-packages/keras/src/engine/training.py\", line 1384, in step_function\n\n  File \"/usr/local/lib/python3.10/dist-packages/keras/src/engine/training.py\", line 1373, in run_step\n\n  File \"/usr/local/lib/python3.10/dist-packages/keras/src/engine/training.py\", line 1151, in train_step\n\n  File \"/usr/local/lib/python3.10/dist-packages/keras/src/engine/training.py\", line 1209, in compute_loss\n\n  File \"/usr/local/lib/python3.10/dist-packages/keras/src/engine/compile_utils.py\", line 277, in __call__\n\n  File \"/usr/local/lib/python3.10/dist-packages/keras/src/losses.py\", line 143, in __call__\n\n  File \"/usr/local/lib/python3.10/dist-packages/keras/src/losses.py\", line 270, in call\n\n  File \"/usr/local/lib/python3.10/dist-packages/keras/src/losses.py\", line 2221, in categorical_crossentropy\n\n  File \"/usr/local/lib/python3.10/dist-packages/keras/src/backend.py\", line 5579, in categorical_crossentropy\n\nlogits and labels must be broadcastable: logits_size=[8,6] labels_size=[8,16]\n\t [[{{node categorical_crossentropy/softmax_cross_entropy_with_logits}}]] [Op:__inference_train_function_56333]"
          ]
        }
      ]
    }
  ]
}